{
 "cells": [
  {
   "cell_type": "code",
   "execution_count": 1,
   "id": "d09b966c-8e11-40bf-b6ec-c97c2637c228",
   "metadata": {},
   "outputs": [],
   "source": [
    "data = {'10': ([0.0, 0.5, 1.0, 1.5, 2.0, 2.5, 3.0, 3.5, 4.0, 4.5, 5.0, 5.5, 6.0, 6.5, 7.0, 7.5, 8.0, 8.5, 9.0, 9.5, 10.0], [0.08, 0.14, 0.22, 0.22, 0.34, 0.26, 0.26, 0.22, 0.16, 0.22, 0.34, 0.26, 0.3, 0.28, 0.18, 0.24, 0.24, 0.26, 0.2, 0.26, 0.22]), '20': ([0.0, 0.5, 1.0, 1.5, 2.0, 2.5, 3.0, 3.5, 4.0, 4.5, 5.0, 5.5, 6.0, 6.5, 7.0, 7.5, 8.0, 8.5, 9.0, 9.5, 10.0], [0.06, 0.2, 0.48, 0.62, 0.48, 0.54, 0.62, 0.7, 0.58, 0.52, 0.68, 0.6, 0.64, 0.66, 0.66, 0.56, 0.68, 0.54, 0.66, 0.54, 0.54]), '30': ([0.0, 0.5, 1.0, 1.5, 2.0, 2.5, 3.0, 3.5, 4.0, 4.5, 5.0, 5.5, 6.0, 6.5, 7.0, 7.5, 8.0, 8.5, 9.0, 9.5, 10.0], [0.12, 0.22, 0.7, 0.7, 0.68, 0.68, 0.74, 0.66, 0.8, 0.88, 0.78, 0.76, 0.72, 0.56, 0.76, 0.66, 0.72, 0.74, 0.88, 0.74, 0.78]), '40': ([0.0, 0.5, 1.0, 1.5, 2.0, 2.5, 3.0, 3.5, 4.0, 4.5, 5.0, 5.5, 6.0, 6.5, 7.0, 7.5, 8.0, 8.5, 9.0, 9.5, 10.0], [0.12, 0.26, 0.6, 0.8, 0.88, 0.82, 0.64, 0.76, 0.96, 0.82, 0.82, 0.78, 0.88, 0.84, 0.74, 0.76, 0.9, 0.8, 0.86, 0.82, 0.86]), '50': ([0.0, 0.5, 1.0, 1.5, 2.0, 2.5, 3.0, 3.5, 4.0, 4.5, 5.0, 5.5, 6.0, 6.5, 7.0, 7.5, 8.0, 8.5, 9.0, 9.5, 10.0], [0.12, 0.4, 0.66, 0.88, 0.86, 0.94, 0.88, 0.88, 0.86, 0.9, 0.86, 0.86, 0.86, 0.84, 0.82, 0.92, 0.92, 0.82, 0.88, 0.8, 0.92]), '60': ([0.0, 0.5, 1.0, 1.5, 2.0, 2.5, 3.0, 3.5, 4.0, 4.5, 5.0, 5.5, 6.0, 6.5, 7.0, 7.5, 8.0, 8.5, 9.0, 9.5, 10.0], [0.08, 0.28, 0.74, 0.86, 0.94, 0.9, 0.94, 0.86, 0.98, 0.92, 0.92, 0.88, 0.88, 0.9, 0.86, 0.94, 0.94, 0.86, 0.92, 0.92, 0.94]), '70': ([0.0, 0.5, 1.0, 1.5, 2.0, 2.5, 3.0, 3.5, 4.0, 4.5, 5.0, 5.5, 6.0, 6.5, 7.0, 7.5, 8.0, 8.5, 9.0, 9.5, 10.0], [0.08, 0.36, 0.78, 0.8, 0.92, 0.96, 0.94, 0.94, 0.96, 0.9, 0.9, 0.9, 0.98, 0.98, 0.94, 0.9, 0.94, 0.92, 0.92, 0.94, 0.94]), '80': ([0.0, 0.5, 1.0, 1.5, 2.0, 2.5, 3.0, 3.5, 4.0, 4.5, 5.0, 5.5, 6.0, 6.5, 7.0, 7.5, 8.0, 8.5, 9.0, 9.5, 10.0], [0.02, 0.46, 0.7, 0.92, 0.96, 1.0, 0.98, 0.9, 0.96, 0.98, 0.98, 1.0, 0.94, 0.98, 0.94, 0.96, 0.96, 0.98, 1.0, 1.0, 0.94]), '90': ([0.0, 0.5, 1.0, 1.5, 2.0, 2.5, 3.0, 3.5, 4.0, 4.5, 5.0, 5.5, 6.0, 6.5, 7.0, 7.5, 8.0, 8.5, 9.0, 9.5, 10.0], [0.08, 0.36, 0.78, 0.96, 0.94, 1.0, 1.0, 1.0, 0.98, 0.96, 0.98, 0.98, 0.98, 0.96, 0.96, 0.98, 0.98, 0.96, 0.96, 0.96, 0.98]), '100': ([0.0, 0.5, 1.0, 1.5, 2.0, 2.5, 3.0, 3.5, 4.0, 4.5, 5.0, 5.5, 6.0, 6.5, 7.0, 7.5, 8.0, 8.5, 9.0, 9.5, 10.0], [0.12, 0.2, 0.68, 0.92, 0.98, 1.0, 1.0, 0.98, 1.0, 1.0, 0.94, 1.0, 0.96, 1.0, 0.94, 1.0, 0.96, 0.96, 0.98, 0.94, 0.98])}"
   ]
  },
  {
   "cell_type": "code",
   "execution_count": 11,
   "id": "79dcfcf1-68e2-4a14-ae80-f80bb55a4a9c",
   "metadata": {},
   "outputs": [],
   "source": [
    "import plotly.express as px\n",
    "import pandas as pd\n",
    "import numpy as np"
   ]
  },
  {
   "cell_type": "code",
   "execution_count": 4,
   "id": "5094399c-e582-440e-b503-e0c49717203f",
   "metadata": {},
   "outputs": [],
   "source": [
    "df = pd.DataFrame.from_dict(data)"
   ]
  },
  {
   "cell_type": "code",
   "execution_count": 10,
   "id": "dc2b4d11-1ad0-4c16-8760-14080a3736ef",
   "metadata": {},
   "outputs": [
    {
     "data": {
      "text/html": [
       "<div>\n",
       "<style scoped>\n",
       "    .dataframe tbody tr th:only-of-type {\n",
       "        vertical-align: middle;\n",
       "    }\n",
       "\n",
       "    .dataframe tbody tr th {\n",
       "        vertical-align: top;\n",
       "    }\n",
       "\n",
       "    .dataframe thead th {\n",
       "        text-align: right;\n",
       "    }\n",
       "</style>\n",
       "<table border=\"1\" class=\"dataframe\">\n",
       "  <thead>\n",
       "    <tr style=\"text-align: right;\">\n",
       "      <th></th>\n",
       "      <th>10</th>\n",
       "      <th>20</th>\n",
       "      <th>30</th>\n",
       "      <th>40</th>\n",
       "      <th>50</th>\n",
       "      <th>60</th>\n",
       "      <th>70</th>\n",
       "      <th>80</th>\n",
       "      <th>90</th>\n",
       "      <th>100</th>\n",
       "    </tr>\n",
       "  </thead>\n",
       "  <tbody>\n",
       "    <tr>\n",
       "      <th>0</th>\n",
       "      <td>[0.0, 0.5, 1.0, 1.5, 2.0, 2.5, 3.0, 3.5, 4.0, ...</td>\n",
       "      <td>[0.0, 0.5, 1.0, 1.5, 2.0, 2.5, 3.0, 3.5, 4.0, ...</td>\n",
       "      <td>[0.0, 0.5, 1.0, 1.5, 2.0, 2.5, 3.0, 3.5, 4.0, ...</td>\n",
       "      <td>[0.0, 0.5, 1.0, 1.5, 2.0, 2.5, 3.0, 3.5, 4.0, ...</td>\n",
       "      <td>[0.0, 0.5, 1.0, 1.5, 2.0, 2.5, 3.0, 3.5, 4.0, ...</td>\n",
       "      <td>[0.0, 0.5, 1.0, 1.5, 2.0, 2.5, 3.0, 3.5, 4.0, ...</td>\n",
       "      <td>[0.0, 0.5, 1.0, 1.5, 2.0, 2.5, 3.0, 3.5, 4.0, ...</td>\n",
       "      <td>[0.0, 0.5, 1.0, 1.5, 2.0, 2.5, 3.0, 3.5, 4.0, ...</td>\n",
       "      <td>[0.0, 0.5, 1.0, 1.5, 2.0, 2.5, 3.0, 3.5, 4.0, ...</td>\n",
       "      <td>[0.0, 0.5, 1.0, 1.5, 2.0, 2.5, 3.0, 3.5, 4.0, ...</td>\n",
       "    </tr>\n",
       "    <tr>\n",
       "      <th>1</th>\n",
       "      <td>[0.08, 0.14, 0.22, 0.22, 0.34, 0.26, 0.26, 0.2...</td>\n",
       "      <td>[0.06, 0.2, 0.48, 0.62, 0.48, 0.54, 0.62, 0.7,...</td>\n",
       "      <td>[0.12, 0.22, 0.7, 0.7, 0.68, 0.68, 0.74, 0.66,...</td>\n",
       "      <td>[0.12, 0.26, 0.6, 0.8, 0.88, 0.82, 0.64, 0.76,...</td>\n",
       "      <td>[0.12, 0.4, 0.66, 0.88, 0.86, 0.94, 0.88, 0.88...</td>\n",
       "      <td>[0.08, 0.28, 0.74, 0.86, 0.94, 0.9, 0.94, 0.86...</td>\n",
       "      <td>[0.08, 0.36, 0.78, 0.8, 0.92, 0.96, 0.94, 0.94...</td>\n",
       "      <td>[0.02, 0.46, 0.7, 0.92, 0.96, 1.0, 0.98, 0.9, ...</td>\n",
       "      <td>[0.08, 0.36, 0.78, 0.96, 0.94, 1.0, 1.0, 1.0, ...</td>\n",
       "      <td>[0.12, 0.2, 0.68, 0.92, 0.98, 1.0, 1.0, 0.98, ...</td>\n",
       "    </tr>\n",
       "  </tbody>\n",
       "</table>\n",
       "</div>"
      ],
      "text/plain": [
       "                                                  10  \\\n",
       "0  [0.0, 0.5, 1.0, 1.5, 2.0, 2.5, 3.0, 3.5, 4.0, ...   \n",
       "1  [0.08, 0.14, 0.22, 0.22, 0.34, 0.26, 0.26, 0.2...   \n",
       "\n",
       "                                                  20  \\\n",
       "0  [0.0, 0.5, 1.0, 1.5, 2.0, 2.5, 3.0, 3.5, 4.0, ...   \n",
       "1  [0.06, 0.2, 0.48, 0.62, 0.48, 0.54, 0.62, 0.7,...   \n",
       "\n",
       "                                                  30  \\\n",
       "0  [0.0, 0.5, 1.0, 1.5, 2.0, 2.5, 3.0, 3.5, 4.0, ...   \n",
       "1  [0.12, 0.22, 0.7, 0.7, 0.68, 0.68, 0.74, 0.66,...   \n",
       "\n",
       "                                                  40  \\\n",
       "0  [0.0, 0.5, 1.0, 1.5, 2.0, 2.5, 3.0, 3.5, 4.0, ...   \n",
       "1  [0.12, 0.26, 0.6, 0.8, 0.88, 0.82, 0.64, 0.76,...   \n",
       "\n",
       "                                                  50  \\\n",
       "0  [0.0, 0.5, 1.0, 1.5, 2.0, 2.5, 3.0, 3.5, 4.0, ...   \n",
       "1  [0.12, 0.4, 0.66, 0.88, 0.86, 0.94, 0.88, 0.88...   \n",
       "\n",
       "                                                  60  \\\n",
       "0  [0.0, 0.5, 1.0, 1.5, 2.0, 2.5, 3.0, 3.5, 4.0, ...   \n",
       "1  [0.08, 0.28, 0.74, 0.86, 0.94, 0.9, 0.94, 0.86...   \n",
       "\n",
       "                                                  70  \\\n",
       "0  [0.0, 0.5, 1.0, 1.5, 2.0, 2.5, 3.0, 3.5, 4.0, ...   \n",
       "1  [0.08, 0.36, 0.78, 0.8, 0.92, 0.96, 0.94, 0.94...   \n",
       "\n",
       "                                                  80  \\\n",
       "0  [0.0, 0.5, 1.0, 1.5, 2.0, 2.5, 3.0, 3.5, 4.0, ...   \n",
       "1  [0.02, 0.46, 0.7, 0.92, 0.96, 1.0, 0.98, 0.9, ...   \n",
       "\n",
       "                                                  90  \\\n",
       "0  [0.0, 0.5, 1.0, 1.5, 2.0, 2.5, 3.0, 3.5, 4.0, ...   \n",
       "1  [0.08, 0.36, 0.78, 0.96, 0.94, 1.0, 1.0, 1.0, ...   \n",
       "\n",
       "                                                 100  \n",
       "0  [0.0, 0.5, 1.0, 1.5, 2.0, 2.5, 3.0, 3.5, 4.0, ...  \n",
       "1  [0.12, 0.2, 0.68, 0.92, 0.98, 1.0, 1.0, 0.98, ...  "
      ]
     },
     "execution_count": 10,
     "metadata": {},
     "output_type": "execute_result"
    }
   ],
   "source": [
    "df"
   ]
  },
  {
   "cell_type": "code",
   "execution_count": 32,
   "id": "d142f036-4d45-4dbc-bcac-2a9ae09e80f4",
   "metadata": {},
   "outputs": [],
   "source": [
    "df = pd.DataFrame(np.array(outer),\n",
    "columns=['Computational Budget', 'Exporation Weight', 'Correct answers in %'])"
   ]
  },
  {
   "cell_type": "code",
   "execution_count": 37,
   "id": "153b1ab2-53b8-4c3a-8716-24c709e3bdf5",
   "metadata": {},
   "outputs": [
    {
     "data": {
      "text/html": [
       "<div>\n",
       "<style scoped>\n",
       "    .dataframe tbody tr th:only-of-type {\n",
       "        vertical-align: middle;\n",
       "    }\n",
       "\n",
       "    .dataframe tbody tr th {\n",
       "        vertical-align: top;\n",
       "    }\n",
       "\n",
       "    .dataframe thead th {\n",
       "        text-align: right;\n",
       "    }\n",
       "</style>\n",
       "<table border=\"1\" class=\"dataframe\">\n",
       "  <thead>\n",
       "    <tr style=\"text-align: right;\">\n",
       "      <th></th>\n",
       "      <th>Computational Budget</th>\n",
       "      <th>Exp</th>\n",
       "      <th>Correct answers in %</th>\n",
       "    </tr>\n",
       "  </thead>\n",
       "  <tbody>\n",
       "    <tr>\n",
       "      <th>0</th>\n",
       "      <td>10</td>\n",
       "      <td>0.0</td>\n",
       "      <td>0.08</td>\n",
       "    </tr>\n",
       "    <tr>\n",
       "      <th>1</th>\n",
       "      <td>10</td>\n",
       "      <td>0.5</td>\n",
       "      <td>0.14</td>\n",
       "    </tr>\n",
       "    <tr>\n",
       "      <th>2</th>\n",
       "      <td>10</td>\n",
       "      <td>1.0</td>\n",
       "      <td>0.22</td>\n",
       "    </tr>\n",
       "    <tr>\n",
       "      <th>3</th>\n",
       "      <td>10</td>\n",
       "      <td>1.5</td>\n",
       "      <td>0.22</td>\n",
       "    </tr>\n",
       "    <tr>\n",
       "      <th>4</th>\n",
       "      <td>10</td>\n",
       "      <td>2.0</td>\n",
       "      <td>0.34</td>\n",
       "    </tr>\n",
       "    <tr>\n",
       "      <th>...</th>\n",
       "      <td>...</td>\n",
       "      <td>...</td>\n",
       "      <td>...</td>\n",
       "    </tr>\n",
       "    <tr>\n",
       "      <th>205</th>\n",
       "      <td>100</td>\n",
       "      <td>8.0</td>\n",
       "      <td>0.96</td>\n",
       "    </tr>\n",
       "    <tr>\n",
       "      <th>206</th>\n",
       "      <td>100</td>\n",
       "      <td>8.5</td>\n",
       "      <td>0.96</td>\n",
       "    </tr>\n",
       "    <tr>\n",
       "      <th>207</th>\n",
       "      <td>100</td>\n",
       "      <td>9.0</td>\n",
       "      <td>0.98</td>\n",
       "    </tr>\n",
       "    <tr>\n",
       "      <th>208</th>\n",
       "      <td>100</td>\n",
       "      <td>9.5</td>\n",
       "      <td>0.94</td>\n",
       "    </tr>\n",
       "    <tr>\n",
       "      <th>209</th>\n",
       "      <td>100</td>\n",
       "      <td>10.0</td>\n",
       "      <td>0.98</td>\n",
       "    </tr>\n",
       "  </tbody>\n",
       "</table>\n",
       "<p>210 rows × 3 columns</p>\n",
       "</div>"
      ],
      "text/plain": [
       "    Computational Budget   Exp Correct answers in %\n",
       "0                     10   0.0                 0.08\n",
       "1                     10   0.5                 0.14\n",
       "2                     10   1.0                 0.22\n",
       "3                     10   1.5                 0.22\n",
       "4                     10   2.0                 0.34\n",
       "..                   ...   ...                  ...\n",
       "205                  100   8.0                 0.96\n",
       "206                  100   8.5                 0.96\n",
       "207                  100   9.0                 0.98\n",
       "208                  100   9.5                 0.94\n",
       "209                  100  10.0                 0.98\n",
       "\n",
       "[210 rows x 3 columns]"
      ]
     },
     "execution_count": 37,
     "metadata": {},
     "output_type": "execute_result"
    }
   ],
   "source": [
    "df"
   ]
  },
  {
   "cell_type": "code",
   "execution_count": 35,
   "id": "25aecd0d-4dc7-4cee-8221-96f95223a142",
   "metadata": {},
   "outputs": [
    {
     "data": {
      "application/vnd.plotly.v1+json": {
       "config": {
        "plotlyServerURL": "https://plot.ly"
       },
       "data": [
        {
         "hovertemplate": "Computational Budget=10<br>Exp=%{x}<br>Correct answers in %=%{y}<extra></extra>",
         "legendgroup": "10",
         "line": {
          "color": "#636efa",
          "dash": "solid"
         },
         "marker": {
          "symbol": "circle"
         },
         "mode": "lines",
         "name": "10",
         "orientation": "v",
         "showlegend": true,
         "type": "scatter",
         "x": [
          "0.0",
          "0.5",
          "1.0",
          "1.5",
          "2.0",
          "2.5",
          "3.0",
          "3.5",
          "4.0",
          "4.5",
          "5.0",
          "5.5",
          "6.0",
          "6.5",
          "7.0",
          "7.5",
          "8.0",
          "8.5",
          "9.0",
          "9.5",
          "10.0"
         ],
         "xaxis": "x",
         "y": [
          "0.08",
          "0.14",
          "0.22",
          "0.22",
          "0.34",
          "0.26",
          "0.26",
          "0.22",
          "0.16",
          "0.22",
          "0.34",
          "0.26",
          "0.3",
          "0.28",
          "0.18",
          "0.24",
          "0.24",
          "0.26",
          "0.2",
          "0.26",
          "0.22"
         ],
         "yaxis": "y"
        },
        {
         "hovertemplate": "Computational Budget=20<br>Exp=%{x}<br>Correct answers in %=%{y}<extra></extra>",
         "legendgroup": "20",
         "line": {
          "color": "#EF553B",
          "dash": "solid"
         },
         "marker": {
          "symbol": "circle"
         },
         "mode": "lines",
         "name": "20",
         "orientation": "v",
         "showlegend": true,
         "type": "scatter",
         "x": [
          "0.0",
          "0.5",
          "1.0",
          "1.5",
          "2.0",
          "2.5",
          "3.0",
          "3.5",
          "4.0",
          "4.5",
          "5.0",
          "5.5",
          "6.0",
          "6.5",
          "7.0",
          "7.5",
          "8.0",
          "8.5",
          "9.0",
          "9.5",
          "10.0"
         ],
         "xaxis": "x",
         "y": [
          "0.06",
          "0.2",
          "0.48",
          "0.62",
          "0.48",
          "0.54",
          "0.62",
          "0.7",
          "0.58",
          "0.52",
          "0.68",
          "0.6",
          "0.64",
          "0.66",
          "0.66",
          "0.56",
          "0.68",
          "0.54",
          "0.66",
          "0.54",
          "0.54"
         ],
         "yaxis": "y"
        },
        {
         "hovertemplate": "Computational Budget=30<br>Exp=%{x}<br>Correct answers in %=%{y}<extra></extra>",
         "legendgroup": "30",
         "line": {
          "color": "#00cc96",
          "dash": "solid"
         },
         "marker": {
          "symbol": "circle"
         },
         "mode": "lines",
         "name": "30",
         "orientation": "v",
         "showlegend": true,
         "type": "scatter",
         "x": [
          "0.0",
          "0.5",
          "1.0",
          "1.5",
          "2.0",
          "2.5",
          "3.0",
          "3.5",
          "4.0",
          "4.5",
          "5.0",
          "5.5",
          "6.0",
          "6.5",
          "7.0",
          "7.5",
          "8.0",
          "8.5",
          "9.0",
          "9.5",
          "10.0"
         ],
         "xaxis": "x",
         "y": [
          "0.12",
          "0.22",
          "0.7",
          "0.7",
          "0.68",
          "0.68",
          "0.74",
          "0.66",
          "0.8",
          "0.88",
          "0.78",
          "0.76",
          "0.72",
          "0.56",
          "0.76",
          "0.66",
          "0.72",
          "0.74",
          "0.88",
          "0.74",
          "0.78"
         ],
         "yaxis": "y"
        },
        {
         "hovertemplate": "Computational Budget=40<br>Exp=%{x}<br>Correct answers in %=%{y}<extra></extra>",
         "legendgroup": "40",
         "line": {
          "color": "#ab63fa",
          "dash": "solid"
         },
         "marker": {
          "symbol": "circle"
         },
         "mode": "lines",
         "name": "40",
         "orientation": "v",
         "showlegend": true,
         "type": "scatter",
         "x": [
          "0.0",
          "0.5",
          "1.0",
          "1.5",
          "2.0",
          "2.5",
          "3.0",
          "3.5",
          "4.0",
          "4.5",
          "5.0",
          "5.5",
          "6.0",
          "6.5",
          "7.0",
          "7.5",
          "8.0",
          "8.5",
          "9.0",
          "9.5",
          "10.0"
         ],
         "xaxis": "x",
         "y": [
          "0.12",
          "0.26",
          "0.6",
          "0.8",
          "0.88",
          "0.82",
          "0.64",
          "0.76",
          "0.96",
          "0.82",
          "0.82",
          "0.78",
          "0.88",
          "0.84",
          "0.74",
          "0.76",
          "0.9",
          "0.8",
          "0.86",
          "0.82",
          "0.86"
         ],
         "yaxis": "y"
        },
        {
         "hovertemplate": "Computational Budget=50<br>Exp=%{x}<br>Correct answers in %=%{y}<extra></extra>",
         "legendgroup": "50",
         "line": {
          "color": "#FFA15A",
          "dash": "solid"
         },
         "marker": {
          "symbol": "circle"
         },
         "mode": "lines",
         "name": "50",
         "orientation": "v",
         "showlegend": true,
         "type": "scatter",
         "x": [
          "0.0",
          "0.5",
          "1.0",
          "1.5",
          "2.0",
          "2.5",
          "3.0",
          "3.5",
          "4.0",
          "4.5",
          "5.0",
          "5.5",
          "6.0",
          "6.5",
          "7.0",
          "7.5",
          "8.0",
          "8.5",
          "9.0",
          "9.5",
          "10.0"
         ],
         "xaxis": "x",
         "y": [
          "0.12",
          "0.4",
          "0.66",
          "0.88",
          "0.86",
          "0.94",
          "0.88",
          "0.88",
          "0.86",
          "0.9",
          "0.86",
          "0.86",
          "0.86",
          "0.84",
          "0.82",
          "0.92",
          "0.92",
          "0.82",
          "0.88",
          "0.8",
          "0.92"
         ],
         "yaxis": "y"
        },
        {
         "hovertemplate": "Computational Budget=60<br>Exp=%{x}<br>Correct answers in %=%{y}<extra></extra>",
         "legendgroup": "60",
         "line": {
          "color": "#19d3f3",
          "dash": "solid"
         },
         "marker": {
          "symbol": "circle"
         },
         "mode": "lines",
         "name": "60",
         "orientation": "v",
         "showlegend": true,
         "type": "scatter",
         "x": [
          "0.0",
          "0.5",
          "1.0",
          "1.5",
          "2.0",
          "2.5",
          "3.0",
          "3.5",
          "4.0",
          "4.5",
          "5.0",
          "5.5",
          "6.0",
          "6.5",
          "7.0",
          "7.5",
          "8.0",
          "8.5",
          "9.0",
          "9.5",
          "10.0"
         ],
         "xaxis": "x",
         "y": [
          "0.08",
          "0.28",
          "0.74",
          "0.86",
          "0.94",
          "0.9",
          "0.94",
          "0.86",
          "0.98",
          "0.92",
          "0.92",
          "0.88",
          "0.88",
          "0.9",
          "0.86",
          "0.94",
          "0.94",
          "0.86",
          "0.92",
          "0.92",
          "0.94"
         ],
         "yaxis": "y"
        },
        {
         "hovertemplate": "Computational Budget=70<br>Exp=%{x}<br>Correct answers in %=%{y}<extra></extra>",
         "legendgroup": "70",
         "line": {
          "color": "#FF6692",
          "dash": "solid"
         },
         "marker": {
          "symbol": "circle"
         },
         "mode": "lines",
         "name": "70",
         "orientation": "v",
         "showlegend": true,
         "type": "scatter",
         "x": [
          "0.0",
          "0.5",
          "1.0",
          "1.5",
          "2.0",
          "2.5",
          "3.0",
          "3.5",
          "4.0",
          "4.5",
          "5.0",
          "5.5",
          "6.0",
          "6.5",
          "7.0",
          "7.5",
          "8.0",
          "8.5",
          "9.0",
          "9.5",
          "10.0"
         ],
         "xaxis": "x",
         "y": [
          "0.08",
          "0.36",
          "0.78",
          "0.8",
          "0.92",
          "0.96",
          "0.94",
          "0.94",
          "0.96",
          "0.9",
          "0.9",
          "0.9",
          "0.98",
          "0.98",
          "0.94",
          "0.9",
          "0.94",
          "0.92",
          "0.92",
          "0.94",
          "0.94"
         ],
         "yaxis": "y"
        },
        {
         "hovertemplate": "Computational Budget=80<br>Exp=%{x}<br>Correct answers in %=%{y}<extra></extra>",
         "legendgroup": "80",
         "line": {
          "color": "#B6E880",
          "dash": "solid"
         },
         "marker": {
          "symbol": "circle"
         },
         "mode": "lines",
         "name": "80",
         "orientation": "v",
         "showlegend": true,
         "type": "scatter",
         "x": [
          "0.0",
          "0.5",
          "1.0",
          "1.5",
          "2.0",
          "2.5",
          "3.0",
          "3.5",
          "4.0",
          "4.5",
          "5.0",
          "5.5",
          "6.0",
          "6.5",
          "7.0",
          "7.5",
          "8.0",
          "8.5",
          "9.0",
          "9.5",
          "10.0"
         ],
         "xaxis": "x",
         "y": [
          "0.02",
          "0.46",
          "0.7",
          "0.92",
          "0.96",
          "1.0",
          "0.98",
          "0.9",
          "0.96",
          "0.98",
          "0.98",
          "1.0",
          "0.94",
          "0.98",
          "0.94",
          "0.96",
          "0.96",
          "0.98",
          "1.0",
          "1.0",
          "0.94"
         ],
         "yaxis": "y"
        },
        {
         "hovertemplate": "Computational Budget=90<br>Exp=%{x}<br>Correct answers in %=%{y}<extra></extra>",
         "legendgroup": "90",
         "line": {
          "color": "#FF97FF",
          "dash": "solid"
         },
         "marker": {
          "symbol": "circle"
         },
         "mode": "lines",
         "name": "90",
         "orientation": "v",
         "showlegend": true,
         "type": "scatter",
         "x": [
          "0.0",
          "0.5",
          "1.0",
          "1.5",
          "2.0",
          "2.5",
          "3.0",
          "3.5",
          "4.0",
          "4.5",
          "5.0",
          "5.5",
          "6.0",
          "6.5",
          "7.0",
          "7.5",
          "8.0",
          "8.5",
          "9.0",
          "9.5",
          "10.0"
         ],
         "xaxis": "x",
         "y": [
          "0.08",
          "0.36",
          "0.78",
          "0.96",
          "0.94",
          "1.0",
          "1.0",
          "1.0",
          "0.98",
          "0.96",
          "0.98",
          "0.98",
          "0.98",
          "0.96",
          "0.96",
          "0.98",
          "0.98",
          "0.96",
          "0.96",
          "0.96",
          "0.98"
         ],
         "yaxis": "y"
        },
        {
         "hovertemplate": "Computational Budget=100<br>Exp=%{x}<br>Correct answers in %=%{y}<extra></extra>",
         "legendgroup": "100",
         "line": {
          "color": "#FECB52",
          "dash": "solid"
         },
         "marker": {
          "symbol": "circle"
         },
         "mode": "lines",
         "name": "100",
         "orientation": "v",
         "showlegend": true,
         "type": "scatter",
         "x": [
          "0.0",
          "0.5",
          "1.0",
          "1.5",
          "2.0",
          "2.5",
          "3.0",
          "3.5",
          "4.0",
          "4.5",
          "5.0",
          "5.5",
          "6.0",
          "6.5",
          "7.0",
          "7.5",
          "8.0",
          "8.5",
          "9.0",
          "9.5",
          "10.0"
         ],
         "xaxis": "x",
         "y": [
          "0.12",
          "0.2",
          "0.68",
          "0.92",
          "0.98",
          "1.0",
          "1.0",
          "0.98",
          "1.0",
          "1.0",
          "0.94",
          "1.0",
          "0.96",
          "1.0",
          "0.94",
          "1.0",
          "0.96",
          "0.96",
          "0.98",
          "0.94",
          "0.98"
         ],
         "yaxis": "y"
        }
       ],
       "layout": {
        "autosize": true,
        "legend": {
         "title": {
          "text": "Computational Budget"
         },
         "tracegroupgap": 0
        },
        "margin": {
         "t": 60
        },
        "template": {
         "data": {
          "bar": [
           {
            "error_x": {
             "color": "#2a3f5f"
            },
            "error_y": {
             "color": "#2a3f5f"
            },
            "marker": {
             "line": {
              "color": "#E5ECF6",
              "width": 0.5
             },
             "pattern": {
              "fillmode": "overlay",
              "size": 10,
              "solidity": 0.2
             }
            },
            "type": "bar"
           }
          ],
          "barpolar": [
           {
            "marker": {
             "line": {
              "color": "#E5ECF6",
              "width": 0.5
             },
             "pattern": {
              "fillmode": "overlay",
              "size": 10,
              "solidity": 0.2
             }
            },
            "type": "barpolar"
           }
          ],
          "carpet": [
           {
            "aaxis": {
             "endlinecolor": "#2a3f5f",
             "gridcolor": "white",
             "linecolor": "white",
             "minorgridcolor": "white",
             "startlinecolor": "#2a3f5f"
            },
            "baxis": {
             "endlinecolor": "#2a3f5f",
             "gridcolor": "white",
             "linecolor": "white",
             "minorgridcolor": "white",
             "startlinecolor": "#2a3f5f"
            },
            "type": "carpet"
           }
          ],
          "choropleth": [
           {
            "colorbar": {
             "outlinewidth": 0,
             "ticks": ""
            },
            "type": "choropleth"
           }
          ],
          "contour": [
           {
            "colorbar": {
             "outlinewidth": 0,
             "ticks": ""
            },
            "colorscale": [
             [
              0,
              "#0d0887"
             ],
             [
              0.1111111111111111,
              "#46039f"
             ],
             [
              0.2222222222222222,
              "#7201a8"
             ],
             [
              0.3333333333333333,
              "#9c179e"
             ],
             [
              0.4444444444444444,
              "#bd3786"
             ],
             [
              0.5555555555555556,
              "#d8576b"
             ],
             [
              0.6666666666666666,
              "#ed7953"
             ],
             [
              0.7777777777777778,
              "#fb9f3a"
             ],
             [
              0.8888888888888888,
              "#fdca26"
             ],
             [
              1,
              "#f0f921"
             ]
            ],
            "type": "contour"
           }
          ],
          "contourcarpet": [
           {
            "colorbar": {
             "outlinewidth": 0,
             "ticks": ""
            },
            "type": "contourcarpet"
           }
          ],
          "heatmap": [
           {
            "colorbar": {
             "outlinewidth": 0,
             "ticks": ""
            },
            "colorscale": [
             [
              0,
              "#0d0887"
             ],
             [
              0.1111111111111111,
              "#46039f"
             ],
             [
              0.2222222222222222,
              "#7201a8"
             ],
             [
              0.3333333333333333,
              "#9c179e"
             ],
             [
              0.4444444444444444,
              "#bd3786"
             ],
             [
              0.5555555555555556,
              "#d8576b"
             ],
             [
              0.6666666666666666,
              "#ed7953"
             ],
             [
              0.7777777777777778,
              "#fb9f3a"
             ],
             [
              0.8888888888888888,
              "#fdca26"
             ],
             [
              1,
              "#f0f921"
             ]
            ],
            "type": "heatmap"
           }
          ],
          "heatmapgl": [
           {
            "colorbar": {
             "outlinewidth": 0,
             "ticks": ""
            },
            "colorscale": [
             [
              0,
              "#0d0887"
             ],
             [
              0.1111111111111111,
              "#46039f"
             ],
             [
              0.2222222222222222,
              "#7201a8"
             ],
             [
              0.3333333333333333,
              "#9c179e"
             ],
             [
              0.4444444444444444,
              "#bd3786"
             ],
             [
              0.5555555555555556,
              "#d8576b"
             ],
             [
              0.6666666666666666,
              "#ed7953"
             ],
             [
              0.7777777777777778,
              "#fb9f3a"
             ],
             [
              0.8888888888888888,
              "#fdca26"
             ],
             [
              1,
              "#f0f921"
             ]
            ],
            "type": "heatmapgl"
           }
          ],
          "histogram": [
           {
            "marker": {
             "pattern": {
              "fillmode": "overlay",
              "size": 10,
              "solidity": 0.2
             }
            },
            "type": "histogram"
           }
          ],
          "histogram2d": [
           {
            "colorbar": {
             "outlinewidth": 0,
             "ticks": ""
            },
            "colorscale": [
             [
              0,
              "#0d0887"
             ],
             [
              0.1111111111111111,
              "#46039f"
             ],
             [
              0.2222222222222222,
              "#7201a8"
             ],
             [
              0.3333333333333333,
              "#9c179e"
             ],
             [
              0.4444444444444444,
              "#bd3786"
             ],
             [
              0.5555555555555556,
              "#d8576b"
             ],
             [
              0.6666666666666666,
              "#ed7953"
             ],
             [
              0.7777777777777778,
              "#fb9f3a"
             ],
             [
              0.8888888888888888,
              "#fdca26"
             ],
             [
              1,
              "#f0f921"
             ]
            ],
            "type": "histogram2d"
           }
          ],
          "histogram2dcontour": [
           {
            "colorbar": {
             "outlinewidth": 0,
             "ticks": ""
            },
            "colorscale": [
             [
              0,
              "#0d0887"
             ],
             [
              0.1111111111111111,
              "#46039f"
             ],
             [
              0.2222222222222222,
              "#7201a8"
             ],
             [
              0.3333333333333333,
              "#9c179e"
             ],
             [
              0.4444444444444444,
              "#bd3786"
             ],
             [
              0.5555555555555556,
              "#d8576b"
             ],
             [
              0.6666666666666666,
              "#ed7953"
             ],
             [
              0.7777777777777778,
              "#fb9f3a"
             ],
             [
              0.8888888888888888,
              "#fdca26"
             ],
             [
              1,
              "#f0f921"
             ]
            ],
            "type": "histogram2dcontour"
           }
          ],
          "mesh3d": [
           {
            "colorbar": {
             "outlinewidth": 0,
             "ticks": ""
            },
            "type": "mesh3d"
           }
          ],
          "parcoords": [
           {
            "line": {
             "colorbar": {
              "outlinewidth": 0,
              "ticks": ""
             }
            },
            "type": "parcoords"
           }
          ],
          "pie": [
           {
            "automargin": true,
            "type": "pie"
           }
          ],
          "scatter": [
           {
            "marker": {
             "colorbar": {
              "outlinewidth": 0,
              "ticks": ""
             }
            },
            "type": "scatter"
           }
          ],
          "scatter3d": [
           {
            "line": {
             "colorbar": {
              "outlinewidth": 0,
              "ticks": ""
             }
            },
            "marker": {
             "colorbar": {
              "outlinewidth": 0,
              "ticks": ""
             }
            },
            "type": "scatter3d"
           }
          ],
          "scattercarpet": [
           {
            "marker": {
             "colorbar": {
              "outlinewidth": 0,
              "ticks": ""
             }
            },
            "type": "scattercarpet"
           }
          ],
          "scattergeo": [
           {
            "marker": {
             "colorbar": {
              "outlinewidth": 0,
              "ticks": ""
             }
            },
            "type": "scattergeo"
           }
          ],
          "scattergl": [
           {
            "marker": {
             "colorbar": {
              "outlinewidth": 0,
              "ticks": ""
             }
            },
            "type": "scattergl"
           }
          ],
          "scattermapbox": [
           {
            "marker": {
             "colorbar": {
              "outlinewidth": 0,
              "ticks": ""
             }
            },
            "type": "scattermapbox"
           }
          ],
          "scatterpolar": [
           {
            "marker": {
             "colorbar": {
              "outlinewidth": 0,
              "ticks": ""
             }
            },
            "type": "scatterpolar"
           }
          ],
          "scatterpolargl": [
           {
            "marker": {
             "colorbar": {
              "outlinewidth": 0,
              "ticks": ""
             }
            },
            "type": "scatterpolargl"
           }
          ],
          "scatterternary": [
           {
            "marker": {
             "colorbar": {
              "outlinewidth": 0,
              "ticks": ""
             }
            },
            "type": "scatterternary"
           }
          ],
          "surface": [
           {
            "colorbar": {
             "outlinewidth": 0,
             "ticks": ""
            },
            "colorscale": [
             [
              0,
              "#0d0887"
             ],
             [
              0.1111111111111111,
              "#46039f"
             ],
             [
              0.2222222222222222,
              "#7201a8"
             ],
             [
              0.3333333333333333,
              "#9c179e"
             ],
             [
              0.4444444444444444,
              "#bd3786"
             ],
             [
              0.5555555555555556,
              "#d8576b"
             ],
             [
              0.6666666666666666,
              "#ed7953"
             ],
             [
              0.7777777777777778,
              "#fb9f3a"
             ],
             [
              0.8888888888888888,
              "#fdca26"
             ],
             [
              1,
              "#f0f921"
             ]
            ],
            "type": "surface"
           }
          ],
          "table": [
           {
            "cells": {
             "fill": {
              "color": "#EBF0F8"
             },
             "line": {
              "color": "white"
             }
            },
            "header": {
             "fill": {
              "color": "#C8D4E3"
             },
             "line": {
              "color": "white"
             }
            },
            "type": "table"
           }
          ]
         },
         "layout": {
          "annotationdefaults": {
           "arrowcolor": "#2a3f5f",
           "arrowhead": 0,
           "arrowwidth": 1
          },
          "autotypenumbers": "strict",
          "coloraxis": {
           "colorbar": {
            "outlinewidth": 0,
            "ticks": ""
           }
          },
          "colorscale": {
           "diverging": [
            [
             0,
             "#8e0152"
            ],
            [
             0.1,
             "#c51b7d"
            ],
            [
             0.2,
             "#de77ae"
            ],
            [
             0.3,
             "#f1b6da"
            ],
            [
             0.4,
             "#fde0ef"
            ],
            [
             0.5,
             "#f7f7f7"
            ],
            [
             0.6,
             "#e6f5d0"
            ],
            [
             0.7,
             "#b8e186"
            ],
            [
             0.8,
             "#7fbc41"
            ],
            [
             0.9,
             "#4d9221"
            ],
            [
             1,
             "#276419"
            ]
           ],
           "sequential": [
            [
             0,
             "#0d0887"
            ],
            [
             0.1111111111111111,
             "#46039f"
            ],
            [
             0.2222222222222222,
             "#7201a8"
            ],
            [
             0.3333333333333333,
             "#9c179e"
            ],
            [
             0.4444444444444444,
             "#bd3786"
            ],
            [
             0.5555555555555556,
             "#d8576b"
            ],
            [
             0.6666666666666666,
             "#ed7953"
            ],
            [
             0.7777777777777778,
             "#fb9f3a"
            ],
            [
             0.8888888888888888,
             "#fdca26"
            ],
            [
             1,
             "#f0f921"
            ]
           ],
           "sequentialminus": [
            [
             0,
             "#0d0887"
            ],
            [
             0.1111111111111111,
             "#46039f"
            ],
            [
             0.2222222222222222,
             "#7201a8"
            ],
            [
             0.3333333333333333,
             "#9c179e"
            ],
            [
             0.4444444444444444,
             "#bd3786"
            ],
            [
             0.5555555555555556,
             "#d8576b"
            ],
            [
             0.6666666666666666,
             "#ed7953"
            ],
            [
             0.7777777777777778,
             "#fb9f3a"
            ],
            [
             0.8888888888888888,
             "#fdca26"
            ],
            [
             1,
             "#f0f921"
            ]
           ]
          },
          "colorway": [
           "#636efa",
           "#EF553B",
           "#00cc96",
           "#ab63fa",
           "#FFA15A",
           "#19d3f3",
           "#FF6692",
           "#B6E880",
           "#FF97FF",
           "#FECB52"
          ],
          "font": {
           "color": "#2a3f5f"
          },
          "geo": {
           "bgcolor": "white",
           "lakecolor": "white",
           "landcolor": "#E5ECF6",
           "showlakes": true,
           "showland": true,
           "subunitcolor": "white"
          },
          "hoverlabel": {
           "align": "left"
          },
          "hovermode": "closest",
          "mapbox": {
           "style": "light"
          },
          "paper_bgcolor": "white",
          "plot_bgcolor": "#E5ECF6",
          "polar": {
           "angularaxis": {
            "gridcolor": "white",
            "linecolor": "white",
            "ticks": ""
           },
           "bgcolor": "#E5ECF6",
           "radialaxis": {
            "gridcolor": "white",
            "linecolor": "white",
            "ticks": ""
           }
          },
          "scene": {
           "xaxis": {
            "backgroundcolor": "#E5ECF6",
            "gridcolor": "white",
            "gridwidth": 2,
            "linecolor": "white",
            "showbackground": true,
            "ticks": "",
            "zerolinecolor": "white"
           },
           "yaxis": {
            "backgroundcolor": "#E5ECF6",
            "gridcolor": "white",
            "gridwidth": 2,
            "linecolor": "white",
            "showbackground": true,
            "ticks": "",
            "zerolinecolor": "white"
           },
           "zaxis": {
            "backgroundcolor": "#E5ECF6",
            "gridcolor": "white",
            "gridwidth": 2,
            "linecolor": "white",
            "showbackground": true,
            "ticks": "",
            "zerolinecolor": "white"
           }
          },
          "shapedefaults": {
           "line": {
            "color": "#2a3f5f"
           }
          },
          "ternary": {
           "aaxis": {
            "gridcolor": "white",
            "linecolor": "white",
            "ticks": ""
           },
           "baxis": {
            "gridcolor": "white",
            "linecolor": "white",
            "ticks": ""
           },
           "bgcolor": "#E5ECF6",
           "caxis": {
            "gridcolor": "white",
            "linecolor": "white",
            "ticks": ""
           }
          },
          "title": {
           "x": 0.05
          },
          "xaxis": {
           "automargin": true,
           "gridcolor": "white",
           "linecolor": "white",
           "ticks": "",
           "title": {
            "standoff": 15
           },
           "zerolinecolor": "white",
           "zerolinewidth": 2
          },
          "yaxis": {
           "automargin": true,
           "gridcolor": "white",
           "linecolor": "white",
           "ticks": "",
           "title": {
            "standoff": 15
           },
           "zerolinecolor": "white",
           "zerolinewidth": 2
          }
         }
        },
        "xaxis": {
         "anchor": "y",
         "autorange": true,
         "domain": [
          0,
          1
         ],
         "range": [
          0,
          20
         ],
         "title": {
          "text": "Exp"
         },
         "type": "category"
        },
        "yaxis": {
         "anchor": "x",
         "autorange": true,
         "domain": [
          0,
          1
         ],
         "range": [
          -2.3333333333333335,
          44.333333333333336
         ],
         "title": {
          "text": "Correct answers in %"
         },
         "type": "category"
        }
       }
      },
      "image/png": "[encoded data removed]",
      "text/html": [
       "<div>                            <div id=\"94e64b93-f385-425e-8000-b660155a4ea8\" class=\"plotly-graph-div\" style=\"height:525px; width:100%;\"></div>            <script type=\"text/javascript\">                require([\"plotly\"], function(Plotly) {                    window.PLOTLYENV=window.PLOTLYENV || {};                                    if (document.getElementById(\"94e64b93-f385-425e-8000-b660155a4ea8\")) {                    Plotly.newPlot(                        \"94e64b93-f385-425e-8000-b660155a4ea8\",                        [{\"hovertemplate\":\"Computational Budget=10<br>Exp=%{x}<br>Correct answers in %=%{y}<extra></extra>\",\"legendgroup\":\"10\",\"line\":{\"color\":\"#636efa\",\"dash\":\"solid\"},\"marker\":{\"symbol\":\"circle\"},\"mode\":\"lines\",\"name\":\"10\",\"orientation\":\"v\",\"showlegend\":true,\"x\":[\"0.0\",\"0.5\",\"1.0\",\"1.5\",\"2.0\",\"2.5\",\"3.0\",\"3.5\",\"4.0\",\"4.5\",\"5.0\",\"5.5\",\"6.0\",\"6.5\",\"7.0\",\"7.5\",\"8.0\",\"8.5\",\"9.0\",\"9.5\",\"10.0\"],\"xaxis\":\"x\",\"y\":[\"0.08\",\"0.14\",\"0.22\",\"0.22\",\"0.34\",\"0.26\",\"0.26\",\"0.22\",\"0.16\",\"0.22\",\"0.34\",\"0.26\",\"0.3\",\"0.28\",\"0.18\",\"0.24\",\"0.24\",\"0.26\",\"0.2\",\"0.26\",\"0.22\"],\"yaxis\":\"y\",\"type\":\"scatter\"},{\"hovertemplate\":\"Computational Budget=20<br>Exp=%{x}<br>Correct answers in %=%{y}<extra></extra>\",\"legendgroup\":\"20\",\"line\":{\"color\":\"#EF553B\",\"dash\":\"solid\"},\"marker\":{\"symbol\":\"circle\"},\"mode\":\"lines\",\"name\":\"20\",\"orientation\":\"v\",\"showlegend\":true,\"x\":[\"0.0\",\"0.5\",\"1.0\",\"1.5\",\"2.0\",\"2.5\",\"3.0\",\"3.5\",\"4.0\",\"4.5\",\"5.0\",\"5.5\",\"6.0\",\"6.5\",\"7.0\",\"7.5\",\"8.0\",\"8.5\",\"9.0\",\"9.5\",\"10.0\"],\"xaxis\":\"x\",\"y\":[\"0.06\",\"0.2\",\"0.48\",\"0.62\",\"0.48\",\"0.54\",\"0.62\",\"0.7\",\"0.58\",\"0.52\",\"0.68\",\"0.6\",\"0.64\",\"0.66\",\"0.66\",\"0.56\",\"0.68\",\"0.54\",\"0.66\",\"0.54\",\"0.54\"],\"yaxis\":\"y\",\"type\":\"scatter\"},{\"hovertemplate\":\"Computational Budget=30<br>Exp=%{x}<br>Correct answers in %=%{y}<extra></extra>\",\"legendgroup\":\"30\",\"line\":{\"color\":\"#00cc96\",\"dash\":\"solid\"},\"marker\":{\"symbol\":\"circle\"},\"mode\":\"lines\",\"name\":\"30\",\"orientation\":\"v\",\"showlegend\":true,\"x\":[\"0.0\",\"0.5\",\"1.0\",\"1.5\",\"2.0\",\"2.5\",\"3.0\",\"3.5\",\"4.0\",\"4.5\",\"5.0\",\"5.5\",\"6.0\",\"6.5\",\"7.0\",\"7.5\",\"8.0\",\"8.5\",\"9.0\",\"9.5\",\"10.0\"],\"xaxis\":\"x\",\"y\":[\"0.12\",\"0.22\",\"0.7\",\"0.7\",\"0.68\",\"0.68\",\"0.74\",\"0.66\",\"0.8\",\"0.88\",\"0.78\",\"0.76\",\"0.72\",\"0.56\",\"0.76\",\"0.66\",\"0.72\",\"0.74\",\"0.88\",\"0.74\",\"0.78\"],\"yaxis\":\"y\",\"type\":\"scatter\"},{\"hovertemplate\":\"Computational Budget=40<br>Exp=%{x}<br>Correct answers in %=%{y}<extra></extra>\",\"legendgroup\":\"40\",\"line\":{\"color\":\"#ab63fa\",\"dash\":\"solid\"},\"marker\":{\"symbol\":\"circle\"},\"mode\":\"lines\",\"name\":\"40\",\"orientation\":\"v\",\"showlegend\":true,\"x\":[\"0.0\",\"0.5\",\"1.0\",\"1.5\",\"2.0\",\"2.5\",\"3.0\",\"3.5\",\"4.0\",\"4.5\",\"5.0\",\"5.5\",\"6.0\",\"6.5\",\"7.0\",\"7.5\",\"8.0\",\"8.5\",\"9.0\",\"9.5\",\"10.0\"],\"xaxis\":\"x\",\"y\":[\"0.12\",\"0.26\",\"0.6\",\"0.8\",\"0.88\",\"0.82\",\"0.64\",\"0.76\",\"0.96\",\"0.82\",\"0.82\",\"0.78\",\"0.88\",\"0.84\",\"0.74\",\"0.76\",\"0.9\",\"0.8\",\"0.86\",\"0.82\",\"0.86\"],\"yaxis\":\"y\",\"type\":\"scatter\"},{\"hovertemplate\":\"Computational Budget=50<br>Exp=%{x}<br>Correct answers in %=%{y}<extra></extra>\",\"legendgroup\":\"50\",\"line\":{\"color\":\"#FFA15A\",\"dash\":\"solid\"},\"marker\":{\"symbol\":\"circle\"},\"mode\":\"lines\",\"name\":\"50\",\"orientation\":\"v\",\"showlegend\":true,\"x\":[\"0.0\",\"0.5\",\"1.0\",\"1.5\",\"2.0\",\"2.5\",\"3.0\",\"3.5\",\"4.0\",\"4.5\",\"5.0\",\"5.5\",\"6.0\",\"6.5\",\"7.0\",\"7.5\",\"8.0\",\"8.5\",\"9.0\",\"9.5\",\"10.0\"],\"xaxis\":\"x\",\"y\":[\"0.12\",\"0.4\",\"0.66\",\"0.88\",\"0.86\",\"0.94\",\"0.88\",\"0.88\",\"0.86\",\"0.9\",\"0.86\",\"0.86\",\"0.86\",\"0.84\",\"0.82\",\"0.92\",\"0.92\",\"0.82\",\"0.88\",\"0.8\",\"0.92\"],\"yaxis\":\"y\",\"type\":\"scatter\"},{\"hovertemplate\":\"Computational Budget=60<br>Exp=%{x}<br>Correct answers in %=%{y}<extra></extra>\",\"legendgroup\":\"60\",\"line\":{\"color\":\"#19d3f3\",\"dash\":\"solid\"},\"marker\":{\"symbol\":\"circle\"},\"mode\":\"lines\",\"name\":\"60\",\"orientation\":\"v\",\"showlegend\":true,\"x\":[\"0.0\",\"0.5\",\"1.0\",\"1.5\",\"2.0\",\"2.5\",\"3.0\",\"3.5\",\"4.0\",\"4.5\",\"5.0\",\"5.5\",\"6.0\",\"6.5\",\"7.0\",\"7.5\",\"8.0\",\"8.5\",\"9.0\",\"9.5\",\"10.0\"],\"xaxis\":\"x\",\"y\":[\"0.08\",\"0.28\",\"0.74\",\"0.86\",\"0.94\",\"0.9\",\"0.94\",\"0.86\",\"0.98\",\"0.92\",\"0.92\",\"0.88\",\"0.88\",\"0.9\",\"0.86\",\"0.94\",\"0.94\",\"0.86\",\"0.92\",\"0.92\",\"0.94\"],\"yaxis\":\"y\",\"type\":\"scatter\"},{\"hovertemplate\":\"Computational Budget=70<br>Exp=%{x}<br>Correct answers in %=%{y}<extra></extra>\",\"legendgroup\":\"70\",\"line\":{\"color\":\"#FF6692\",\"dash\":\"solid\"},\"marker\":{\"symbol\":\"circle\"},\"mode\":\"lines\",\"name\":\"70\",\"orientation\":\"v\",\"showlegend\":true,\"x\":[\"0.0\",\"0.5\",\"1.0\",\"1.5\",\"2.0\",\"2.5\",\"3.0\",\"3.5\",\"4.0\",\"4.5\",\"5.0\",\"5.5\",\"6.0\",\"6.5\",\"7.0\",\"7.5\",\"8.0\",\"8.5\",\"9.0\",\"9.5\",\"10.0\"],\"xaxis\":\"x\",\"y\":[\"0.08\",\"0.36\",\"0.78\",\"0.8\",\"0.92\",\"0.96\",\"0.94\",\"0.94\",\"0.96\",\"0.9\",\"0.9\",\"0.9\",\"0.98\",\"0.98\",\"0.94\",\"0.9\",\"0.94\",\"0.92\",\"0.92\",\"0.94\",\"0.94\"],\"yaxis\":\"y\",\"type\":\"scatter\"},{\"hovertemplate\":\"Computational Budget=80<br>Exp=%{x}<br>Correct answers in %=%{y}<extra></extra>\",\"legendgroup\":\"80\",\"line\":{\"color\":\"#B6E880\",\"dash\":\"solid\"},\"marker\":{\"symbol\":\"circle\"},\"mode\":\"lines\",\"name\":\"80\",\"orientation\":\"v\",\"showlegend\":true,\"x\":[\"0.0\",\"0.5\",\"1.0\",\"1.5\",\"2.0\",\"2.5\",\"3.0\",\"3.5\",\"4.0\",\"4.5\",\"5.0\",\"5.5\",\"6.0\",\"6.5\",\"7.0\",\"7.5\",\"8.0\",\"8.5\",\"9.0\",\"9.5\",\"10.0\"],\"xaxis\":\"x\",\"y\":[\"0.02\",\"0.46\",\"0.7\",\"0.92\",\"0.96\",\"1.0\",\"0.98\",\"0.9\",\"0.96\",\"0.98\",\"0.98\",\"1.0\",\"0.94\",\"0.98\",\"0.94\",\"0.96\",\"0.96\",\"0.98\",\"1.0\",\"1.0\",\"0.94\"],\"yaxis\":\"y\",\"type\":\"scatter\"},{\"hovertemplate\":\"Computational Budget=90<br>Exp=%{x}<br>Correct answers in %=%{y}<extra></extra>\",\"legendgroup\":\"90\",\"line\":{\"color\":\"#FF97FF\",\"dash\":\"solid\"},\"marker\":{\"symbol\":\"circle\"},\"mode\":\"lines\",\"name\":\"90\",\"orientation\":\"v\",\"showlegend\":true,\"x\":[\"0.0\",\"0.5\",\"1.0\",\"1.5\",\"2.0\",\"2.5\",\"3.0\",\"3.5\",\"4.0\",\"4.5\",\"5.0\",\"5.5\",\"6.0\",\"6.5\",\"7.0\",\"7.5\",\"8.0\",\"8.5\",\"9.0\",\"9.5\",\"10.0\"],\"xaxis\":\"x\",\"y\":[\"0.08\",\"0.36\",\"0.78\",\"0.96\",\"0.94\",\"1.0\",\"1.0\",\"1.0\",\"0.98\",\"0.96\",\"0.98\",\"0.98\",\"0.98\",\"0.96\",\"0.96\",\"0.98\",\"0.98\",\"0.96\",\"0.96\",\"0.96\",\"0.98\"],\"yaxis\":\"y\",\"type\":\"scatter\"},{\"hovertemplate\":\"Computational Budget=100<br>Exp=%{x}<br>Correct answers in %=%{y}<extra></extra>\",\"legendgroup\":\"100\",\"line\":{\"color\":\"#FECB52\",\"dash\":\"solid\"},\"marker\":{\"symbol\":\"circle\"},\"mode\":\"lines\",\"name\":\"100\",\"orientation\":\"v\",\"showlegend\":true,\"x\":[\"0.0\",\"0.5\",\"1.0\",\"1.5\",\"2.0\",\"2.5\",\"3.0\",\"3.5\",\"4.0\",\"4.5\",\"5.0\",\"5.5\",\"6.0\",\"6.5\",\"7.0\",\"7.5\",\"8.0\",\"8.5\",\"9.0\",\"9.5\",\"10.0\"],\"xaxis\":\"x\",\"y\":[\"0.12\",\"0.2\",\"0.68\",\"0.92\",\"0.98\",\"1.0\",\"1.0\",\"0.98\",\"1.0\",\"1.0\",\"0.94\",\"1.0\",\"0.96\",\"1.0\",\"0.94\",\"1.0\",\"0.96\",\"0.96\",\"0.98\",\"0.94\",\"0.98\"],\"yaxis\":\"y\",\"type\":\"scatter\"}],                        {\"template\":{\"data\":{\"bar\":[{\"error_x\":{\"color\":\"#2a3f5f\"},\"error_y\":{\"color\":\"#2a3f5f\"},\"marker\":{\"line\":{\"color\":\"#E5ECF6\",\"width\":0.5},\"pattern\":{\"fillmode\":\"overlay\",\"size\":10,\"solidity\":0.2}},\"type\":\"bar\"}],\"barpolar\":[{\"marker\":{\"line\":{\"color\":\"#E5ECF6\",\"width\":0.5},\"pattern\":{\"fillmode\":\"overlay\",\"size\":10,\"solidity\":0.2}},\"type\":\"barpolar\"}],\"carpet\":[{\"aaxis\":{\"endlinecolor\":\"#2a3f5f\",\"gridcolor\":\"white\",\"linecolor\":\"white\",\"minorgridcolor\":\"white\",\"startlinecolor\":\"#2a3f5f\"},\"baxis\":{\"endlinecolor\":\"#2a3f5f\",\"gridcolor\":\"white\",\"linecolor\":\"white\",\"minorgridcolor\":\"white\",\"startlinecolor\":\"#2a3f5f\"},\"type\":\"carpet\"}],\"choropleth\":[{\"colorbar\":{\"outlinewidth\":0,\"ticks\":\"\"},\"type\":\"choropleth\"}],\"contour\":[{\"colorbar\":{\"outlinewidth\":0,\"ticks\":\"\"},\"colorscale\":[[0.0,\"#0d0887\"],[0.1111111111111111,\"#46039f\"],[0.2222222222222222,\"#7201a8\"],[0.3333333333333333,\"#9c179e\"],[0.4444444444444444,\"#bd3786\"],[0.5555555555555556,\"#d8576b\"],[0.6666666666666666,\"#ed7953\"],[0.7777777777777778,\"#fb9f3a\"],[0.8888888888888888,\"#fdca26\"],[1.0,\"#f0f921\"]],\"type\":\"contour\"}],\"contourcarpet\":[{\"colorbar\":{\"outlinewidth\":0,\"ticks\":\"\"},\"type\":\"contourcarpet\"}],\"heatmap\":[{\"colorbar\":{\"outlinewidth\":0,\"ticks\":\"\"},\"colorscale\":[[0.0,\"#0d0887\"],[0.1111111111111111,\"#46039f\"],[0.2222222222222222,\"#7201a8\"],[0.3333333333333333,\"#9c179e\"],[0.4444444444444444,\"#bd3786\"],[0.5555555555555556,\"#d8576b\"],[0.6666666666666666,\"#ed7953\"],[0.7777777777777778,\"#fb9f3a\"],[0.8888888888888888,\"#fdca26\"],[1.0,\"#f0f921\"]],\"type\":\"heatmap\"}],\"heatmapgl\":[{\"colorbar\":{\"outlinewidth\":0,\"ticks\":\"\"},\"colorscale\":[[0.0,\"#0d0887\"],[0.1111111111111111,\"#46039f\"],[0.2222222222222222,\"#7201a8\"],[0.3333333333333333,\"#9c179e\"],[0.4444444444444444,\"#bd3786\"],[0.5555555555555556,\"#d8576b\"],[0.6666666666666666,\"#ed7953\"],[0.7777777777777778,\"#fb9f3a\"],[0.8888888888888888,\"#fdca26\"],[1.0,\"#f0f921\"]],\"type\":\"heatmapgl\"}],\"histogram\":[{\"marker\":{\"pattern\":{\"fillmode\":\"overlay\",\"size\":10,\"solidity\":0.2}},\"type\":\"histogram\"}],\"histogram2d\":[{\"colorbar\":{\"outlinewidth\":0,\"ticks\":\"\"},\"colorscale\":[[0.0,\"#0d0887\"],[0.1111111111111111,\"#46039f\"],[0.2222222222222222,\"#7201a8\"],[0.3333333333333333,\"#9c179e\"],[0.4444444444444444,\"#bd3786\"],[0.5555555555555556,\"#d8576b\"],[0.6666666666666666,\"#ed7953\"],[0.7777777777777778,\"#fb9f3a\"],[0.8888888888888888,\"#fdca26\"],[1.0,\"#f0f921\"]],\"type\":\"histogram2d\"}],\"histogram2dcontour\":[{\"colorbar\":{\"outlinewidth\":0,\"ticks\":\"\"},\"colorscale\":[[0.0,\"#0d0887\"],[0.1111111111111111,\"#46039f\"],[0.2222222222222222,\"#7201a8\"],[0.3333333333333333,\"#9c179e\"],[0.4444444444444444,\"#bd3786\"],[0.5555555555555556,\"#d8576b\"],[0.6666666666666666,\"#ed7953\"],[0.7777777777777778,\"#fb9f3a\"],[0.8888888888888888,\"#fdca26\"],[1.0,\"#f0f921\"]],\"type\":\"histogram2dcontour\"}],\"mesh3d\":[{\"colorbar\":{\"outlinewidth\":0,\"ticks\":\"\"},\"type\":\"mesh3d\"}],\"parcoords\":[{\"line\":{\"colorbar\":{\"outlinewidth\":0,\"ticks\":\"\"}},\"type\":\"parcoords\"}],\"pie\":[{\"automargin\":true,\"type\":\"pie\"}],\"scatter\":[{\"marker\":{\"colorbar\":{\"outlinewidth\":0,\"ticks\":\"\"}},\"type\":\"scatter\"}],\"scatter3d\":[{\"line\":{\"colorbar\":{\"outlinewidth\":0,\"ticks\":\"\"}},\"marker\":{\"colorbar\":{\"outlinewidth\":0,\"ticks\":\"\"}},\"type\":\"scatter3d\"}],\"scattercarpet\":[{\"marker\":{\"colorbar\":{\"outlinewidth\":0,\"ticks\":\"\"}},\"type\":\"scattercarpet\"}],\"scattergeo\":[{\"marker\":{\"colorbar\":{\"outlinewidth\":0,\"ticks\":\"\"}},\"type\":\"scattergeo\"}],\"scattergl\":[{\"marker\":{\"colorbar\":{\"outlinewidth\":0,\"ticks\":\"\"}},\"type\":\"scattergl\"}],\"scattermapbox\":[{\"marker\":{\"colorbar\":{\"outlinewidth\":0,\"ticks\":\"\"}},\"type\":\"scattermapbox\"}],\"scatterpolar\":[{\"marker\":{\"colorbar\":{\"outlinewidth\":0,\"ticks\":\"\"}},\"type\":\"scatterpolar\"}],\"scatterpolargl\":[{\"marker\":{\"colorbar\":{\"outlinewidth\":0,\"ticks\":\"\"}},\"type\":\"scatterpolargl\"}],\"scatterternary\":[{\"marker\":{\"colorbar\":{\"outlinewidth\":0,\"ticks\":\"\"}},\"type\":\"scatterternary\"}],\"surface\":[{\"colorbar\":{\"outlinewidth\":0,\"ticks\":\"\"},\"colorscale\":[[0.0,\"#0d0887\"],[0.1111111111111111,\"#46039f\"],[0.2222222222222222,\"#7201a8\"],[0.3333333333333333,\"#9c179e\"],[0.4444444444444444,\"#bd3786\"],[0.5555555555555556,\"#d8576b\"],[0.6666666666666666,\"#ed7953\"],[0.7777777777777778,\"#fb9f3a\"],[0.8888888888888888,\"#fdca26\"],[1.0,\"#f0f921\"]],\"type\":\"surface\"}],\"table\":[{\"cells\":{\"fill\":{\"color\":\"#EBF0F8\"},\"line\":{\"color\":\"white\"}},\"header\":{\"fill\":{\"color\":\"#C8D4E3\"},\"line\":{\"color\":\"white\"}},\"type\":\"table\"}]},\"layout\":{\"annotationdefaults\":{\"arrowcolor\":\"#2a3f5f\",\"arrowhead\":0,\"arrowwidth\":1},\"autotypenumbers\":\"strict\",\"coloraxis\":{\"colorbar\":{\"outlinewidth\":0,\"ticks\":\"\"}},\"colorscale\":{\"diverging\":[[0,\"#8e0152\"],[0.1,\"#c51b7d\"],[0.2,\"#de77ae\"],[0.3,\"#f1b6da\"],[0.4,\"#fde0ef\"],[0.5,\"#f7f7f7\"],[0.6,\"#e6f5d0\"],[0.7,\"#b8e186\"],[0.8,\"#7fbc41\"],[0.9,\"#4d9221\"],[1,\"#276419\"]],\"sequential\":[[0.0,\"#0d0887\"],[0.1111111111111111,\"#46039f\"],[0.2222222222222222,\"#7201a8\"],[0.3333333333333333,\"#9c179e\"],[0.4444444444444444,\"#bd3786\"],[0.5555555555555556,\"#d8576b\"],[0.6666666666666666,\"#ed7953\"],[0.7777777777777778,\"#fb9f3a\"],[0.8888888888888888,\"#fdca26\"],[1.0,\"#f0f921\"]],\"sequentialminus\":[[0.0,\"#0d0887\"],[0.1111111111111111,\"#46039f\"],[0.2222222222222222,\"#7201a8\"],[0.3333333333333333,\"#9c179e\"],[0.4444444444444444,\"#bd3786\"],[0.5555555555555556,\"#d8576b\"],[0.6666666666666666,\"#ed7953\"],[0.7777777777777778,\"#fb9f3a\"],[0.8888888888888888,\"#fdca26\"],[1.0,\"#f0f921\"]]},\"colorway\":[\"#636efa\",\"#EF553B\",\"#00cc96\",\"#ab63fa\",\"#FFA15A\",\"#19d3f3\",\"#FF6692\",\"#B6E880\",\"#FF97FF\",\"#FECB52\"],\"font\":{\"color\":\"#2a3f5f\"},\"geo\":{\"bgcolor\":\"white\",\"lakecolor\":\"white\",\"landcolor\":\"#E5ECF6\",\"showlakes\":true,\"showland\":true,\"subunitcolor\":\"white\"},\"hoverlabel\":{\"align\":\"left\"},\"hovermode\":\"closest\",\"mapbox\":{\"style\":\"light\"},\"paper_bgcolor\":\"white\",\"plot_bgcolor\":\"#E5ECF6\",\"polar\":{\"angularaxis\":{\"gridcolor\":\"white\",\"linecolor\":\"white\",\"ticks\":\"\"},\"bgcolor\":\"#E5ECF6\",\"radialaxis\":{\"gridcolor\":\"white\",\"linecolor\":\"white\",\"ticks\":\"\"}},\"scene\":{\"xaxis\":{\"backgroundcolor\":\"#E5ECF6\",\"gridcolor\":\"white\",\"gridwidth\":2,\"linecolor\":\"white\",\"showbackground\":true,\"ticks\":\"\",\"zerolinecolor\":\"white\"},\"yaxis\":{\"backgroundcolor\":\"#E5ECF6\",\"gridcolor\":\"white\",\"gridwidth\":2,\"linecolor\":\"white\",\"showbackground\":true,\"ticks\":\"\",\"zerolinecolor\":\"white\"},\"zaxis\":{\"backgroundcolor\":\"#E5ECF6\",\"gridcolor\":\"white\",\"gridwidth\":2,\"linecolor\":\"white\",\"showbackground\":true,\"ticks\":\"\",\"zerolinecolor\":\"white\"}},\"shapedefaults\":{\"line\":{\"color\":\"#2a3f5f\"}},\"ternary\":{\"aaxis\":{\"gridcolor\":\"white\",\"linecolor\":\"white\",\"ticks\":\"\"},\"baxis\":{\"gridcolor\":\"white\",\"linecolor\":\"white\",\"ticks\":\"\"},\"bgcolor\":\"#E5ECF6\",\"caxis\":{\"gridcolor\":\"white\",\"linecolor\":\"white\",\"ticks\":\"\"}},\"title\":{\"x\":0.05},\"xaxis\":{\"automargin\":true,\"gridcolor\":\"white\",\"linecolor\":\"white\",\"ticks\":\"\",\"title\":{\"standoff\":15},\"zerolinecolor\":\"white\",\"zerolinewidth\":2},\"yaxis\":{\"automargin\":true,\"gridcolor\":\"white\",\"linecolor\":\"white\",\"ticks\":\"\",\"title\":{\"standoff\":15},\"zerolinecolor\":\"white\",\"zerolinewidth\":2}}},\"xaxis\":{\"anchor\":\"y\",\"domain\":[0.0,1.0],\"title\":{\"text\":\"Exp\"}},\"yaxis\":{\"anchor\":\"x\",\"domain\":[0.0,1.0],\"title\":{\"text\":\"Correct answers in %\"}},\"legend\":{\"title\":{\"text\":\"Computational Budget\"},\"tracegroupgap\":0},\"margin\":{\"t\":60}},                        {\"responsive\": true}                    ).then(function(){\n",
       "                            \n",
       "var gd = document.getElementById('94e64b93-f385-425e-8000-b660155a4ea8');\n",
       "var x = new MutationObserver(function (mutations, observer) {{\n",
       "        var display = window.getComputedStyle(gd).display;\n",
       "        if (!display || display === 'none') {{\n",
       "            console.log([gd, 'removed!']);\n",
       "            Plotly.purge(gd);\n",
       "            observer.disconnect();\n",
       "        }}\n",
       "}});\n",
       "\n",
       "// Listen for the removal of the full notebook cells\n",
       "var notebookContainer = gd.closest('#notebook-container');\n",
       "if (notebookContainer) {{\n",
       "    x.observe(notebookContainer, {childList: true});\n",
       "}}\n",
       "\n",
       "// Listen for the clearing of the current output cell\n",
       "var outputEl = gd.closest('.output');\n",
       "if (outputEl) {{\n",
       "    x.observe(outputEl, {childList: true});\n",
       "}}\n",
       "\n",
       "                        })                };                });            </script>        </div>"
      ]
     },
     "metadata": {},
     "output_type": "display_data"
    }
   ],
   "source": [
    "fig = px.line(df, x=\"Exp\", y=\"Correct answers in %\", color='Computational Budget')\n",
    "fig.show()"
   ]
  },
  {
   "cell_type": "code",
   "execution_count": 27,
   "id": "e928c794-37e7-4734-a579-b26330cf4833",
   "metadata": {},
   "outputs": [],
   "source": [
    "outer = []\n",
    "for key, value in data.items():\n",
    "    for i in range(len(value[0])):\n",
    "        outer.append([key, value[0][i], value[1][i]])"
   ]
  },
  {
   "cell_type": "code",
   "execution_count": 28,
   "id": "8cbb7670-4c95-43f5-98dc-255c834c0d3c",
   "metadata": {},
   "outputs": [
    {
     "data": {
      "text/plain": [
       "[['10', 0.0, 0.08],\n",
       " ['10', 0.5, 0.14],\n",
       " ['10', 1.0, 0.22],\n",
       " ['10', 1.5, 0.22],\n",
       " ['10', 2.0, 0.34],\n",
       " ['10', 2.5, 0.26],\n",
       " ['10', 3.0, 0.26],\n",
       " ['10', 3.5, 0.22],\n",
       " ['10', 4.0, 0.16],\n",
       " ['10', 4.5, 0.22],\n",
       " ['10', 5.0, 0.34],\n",
       " ['10', 5.5, 0.26],\n",
       " ['10', 6.0, 0.3],\n",
       " ['10', 6.5, 0.28],\n",
       " ['10', 7.0, 0.18],\n",
       " ['10', 7.5, 0.24],\n",
       " ['10', 8.0, 0.24],\n",
       " ['10', 8.5, 0.26],\n",
       " ['10', 9.0, 0.2],\n",
       " ['10', 9.5, 0.26],\n",
       " ['10', 10.0, 0.22],\n",
       " ['20', 0.0, 0.06],\n",
       " ['20', 0.5, 0.2],\n",
       " ['20', 1.0, 0.48],\n",
       " ['20', 1.5, 0.62],\n",
       " ['20', 2.0, 0.48],\n",
       " ['20', 2.5, 0.54],\n",
       " ['20', 3.0, 0.62],\n",
       " ['20', 3.5, 0.7],\n",
       " ['20', 4.0, 0.58],\n",
       " ['20', 4.5, 0.52],\n",
       " ['20', 5.0, 0.68],\n",
       " ['20', 5.5, 0.6],\n",
       " ['20', 6.0, 0.64],\n",
       " ['20', 6.5, 0.66],\n",
       " ['20', 7.0, 0.66],\n",
       " ['20', 7.5, 0.56],\n",
       " ['20', 8.0, 0.68],\n",
       " ['20', 8.5, 0.54],\n",
       " ['20', 9.0, 0.66],\n",
       " ['20', 9.5, 0.54],\n",
       " ['20', 10.0, 0.54],\n",
       " ['30', 0.0, 0.12],\n",
       " ['30', 0.5, 0.22],\n",
       " ['30', 1.0, 0.7],\n",
       " ['30', 1.5, 0.7],\n",
       " ['30', 2.0, 0.68],\n",
       " ['30', 2.5, 0.68],\n",
       " ['30', 3.0, 0.74],\n",
       " ['30', 3.5, 0.66],\n",
       " ['30', 4.0, 0.8],\n",
       " ['30', 4.5, 0.88],\n",
       " ['30', 5.0, 0.78],\n",
       " ['30', 5.5, 0.76],\n",
       " ['30', 6.0, 0.72],\n",
       " ['30', 6.5, 0.56],\n",
       " ['30', 7.0, 0.76],\n",
       " ['30', 7.5, 0.66],\n",
       " ['30', 8.0, 0.72],\n",
       " ['30', 8.5, 0.74],\n",
       " ['30', 9.0, 0.88],\n",
       " ['30', 9.5, 0.74],\n",
       " ['30', 10.0, 0.78],\n",
       " ['40', 0.0, 0.12],\n",
       " ['40', 0.5, 0.26],\n",
       " ['40', 1.0, 0.6],\n",
       " ['40', 1.5, 0.8],\n",
       " ['40', 2.0, 0.88],\n",
       " ['40', 2.5, 0.82],\n",
       " ['40', 3.0, 0.64],\n",
       " ['40', 3.5, 0.76],\n",
       " ['40', 4.0, 0.96],\n",
       " ['40', 4.5, 0.82],\n",
       " ['40', 5.0, 0.82],\n",
       " ['40', 5.5, 0.78],\n",
       " ['40', 6.0, 0.88],\n",
       " ['40', 6.5, 0.84],\n",
       " ['40', 7.0, 0.74],\n",
       " ['40', 7.5, 0.76],\n",
       " ['40', 8.0, 0.9],\n",
       " ['40', 8.5, 0.8],\n",
       " ['40', 9.0, 0.86],\n",
       " ['40', 9.5, 0.82],\n",
       " ['40', 10.0, 0.86],\n",
       " ['50', 0.0, 0.12],\n",
       " ['50', 0.5, 0.4],\n",
       " ['50', 1.0, 0.66],\n",
       " ['50', 1.5, 0.88],\n",
       " ['50', 2.0, 0.86],\n",
       " ['50', 2.5, 0.94],\n",
       " ['50', 3.0, 0.88],\n",
       " ['50', 3.5, 0.88],\n",
       " ['50', 4.0, 0.86],\n",
       " ['50', 4.5, 0.9],\n",
       " ['50', 5.0, 0.86],\n",
       " ['50', 5.5, 0.86],\n",
       " ['50', 6.0, 0.86],\n",
       " ['50', 6.5, 0.84],\n",
       " ['50', 7.0, 0.82],\n",
       " ['50', 7.5, 0.92],\n",
       " ['50', 8.0, 0.92],\n",
       " ['50', 8.5, 0.82],\n",
       " ['50', 9.0, 0.88],\n",
       " ['50', 9.5, 0.8],\n",
       " ['50', 10.0, 0.92],\n",
       " ['60', 0.0, 0.08],\n",
       " ['60', 0.5, 0.28],\n",
       " ['60', 1.0, 0.74],\n",
       " ['60', 1.5, 0.86],\n",
       " ['60', 2.0, 0.94],\n",
       " ['60', 2.5, 0.9],\n",
       " ['60', 3.0, 0.94],\n",
       " ['60', 3.5, 0.86],\n",
       " ['60', 4.0, 0.98],\n",
       " ['60', 4.5, 0.92],\n",
       " ['60', 5.0, 0.92],\n",
       " ['60', 5.5, 0.88],\n",
       " ['60', 6.0, 0.88],\n",
       " ['60', 6.5, 0.9],\n",
       " ['60', 7.0, 0.86],\n",
       " ['60', 7.5, 0.94],\n",
       " ['60', 8.0, 0.94],\n",
       " ['60', 8.5, 0.86],\n",
       " ['60', 9.0, 0.92],\n",
       " ['60', 9.5, 0.92],\n",
       " ['60', 10.0, 0.94],\n",
       " ['70', 0.0, 0.08],\n",
       " ['70', 0.5, 0.36],\n",
       " ['70', 1.0, 0.78],\n",
       " ['70', 1.5, 0.8],\n",
       " ['70', 2.0, 0.92],\n",
       " ['70', 2.5, 0.96],\n",
       " ['70', 3.0, 0.94],\n",
       " ['70', 3.5, 0.94],\n",
       " ['70', 4.0, 0.96],\n",
       " ['70', 4.5, 0.9],\n",
       " ['70', 5.0, 0.9],\n",
       " ['70', 5.5, 0.9],\n",
       " ['70', 6.0, 0.98],\n",
       " ['70', 6.5, 0.98],\n",
       " ['70', 7.0, 0.94],\n",
       " ['70', 7.5, 0.9],\n",
       " ['70', 8.0, 0.94],\n",
       " ['70', 8.5, 0.92],\n",
       " ['70', 9.0, 0.92],\n",
       " ['70', 9.5, 0.94],\n",
       " ['70', 10.0, 0.94],\n",
       " ['80', 0.0, 0.02],\n",
       " ['80', 0.5, 0.46],\n",
       " ['80', 1.0, 0.7],\n",
       " ['80', 1.5, 0.92],\n",
       " ['80', 2.0, 0.96],\n",
       " ['80', 2.5, 1.0],\n",
       " ['80', 3.0, 0.98],\n",
       " ['80', 3.5, 0.9],\n",
       " ['80', 4.0, 0.96],\n",
       " ['80', 4.5, 0.98],\n",
       " ['80', 5.0, 0.98],\n",
       " ['80', 5.5, 1.0],\n",
       " ['80', 6.0, 0.94],\n",
       " ['80', 6.5, 0.98],\n",
       " ['80', 7.0, 0.94],\n",
       " ['80', 7.5, 0.96],\n",
       " ['80', 8.0, 0.96],\n",
       " ['80', 8.5, 0.98],\n",
       " ['80', 9.0, 1.0],\n",
       " ['80', 9.5, 1.0],\n",
       " ['80', 10.0, 0.94],\n",
       " ['90', 0.0, 0.08],\n",
       " ['90', 0.5, 0.36],\n",
       " ['90', 1.0, 0.78],\n",
       " ['90', 1.5, 0.96],\n",
       " ['90', 2.0, 0.94],\n",
       " ['90', 2.5, 1.0],\n",
       " ['90', 3.0, 1.0],\n",
       " ['90', 3.5, 1.0],\n",
       " ['90', 4.0, 0.98],\n",
       " ['90', 4.5, 0.96],\n",
       " ['90', 5.0, 0.98],\n",
       " ['90', 5.5, 0.98],\n",
       " ['90', 6.0, 0.98],\n",
       " ['90', 6.5, 0.96],\n",
       " ['90', 7.0, 0.96],\n",
       " ['90', 7.5, 0.98],\n",
       " ['90', 8.0, 0.98],\n",
       " ['90', 8.5, 0.96],\n",
       " ['90', 9.0, 0.96],\n",
       " ['90', 9.5, 0.96],\n",
       " ['90', 10.0, 0.98],\n",
       " ['100', 0.0, 0.12],\n",
       " ['100', 0.5, 0.2],\n",
       " ['100', 1.0, 0.68],\n",
       " ['100', 1.5, 0.92],\n",
       " ['100', 2.0, 0.98],\n",
       " ['100', 2.5, 1.0],\n",
       " ['100', 3.0, 1.0],\n",
       " ['100', 3.5, 0.98],\n",
       " ['100', 4.0, 1.0],\n",
       " ['100', 4.5, 1.0],\n",
       " ['100', 5.0, 0.94],\n",
       " ['100', 5.5, 1.0],\n",
       " ['100', 6.0, 0.96],\n",
       " ['100', 6.5, 1.0],\n",
       " ['100', 7.0, 0.94],\n",
       " ['100', 7.5, 1.0],\n",
       " ['100', 8.0, 0.96],\n",
       " ['100', 8.5, 0.96],\n",
       " ['100', 9.0, 0.98],\n",
       " ['100', 9.5, 0.94],\n",
       " ['100', 10.0, 0.98]]"
      ]
     },
     "execution_count": 28,
     "metadata": {},
     "output_type": "execute_result"
    }
   ],
   "source": [
    "outer"
   ]
  },
  {
   "cell_type": "code",
   "execution_count": null,
   "id": "f25b3b87-609b-43cf-b9f6-c6482c1e6724",
   "metadata": {},
   "outputs": [],
   "source": []
  }
 ],
 "metadata": {
  "kernelspec": {
   "display_name": "Python 3 (ipykernel)",
   "language": "python",
   "name": "python3"
  },
  "language_info": {
   "codemirror_mode": {
    "name": "ipython",
    "version": 3
   },
   "file_extension": ".py",
   "mimetype": "text/x-python",
   "name": "python",
   "nbconvert_exporter": "python",
   "pygments_lexer": "ipython3",
   "version": "3.9.7"
  }
 },
 "nbformat": 4,
 "nbformat_minor": 5
}
