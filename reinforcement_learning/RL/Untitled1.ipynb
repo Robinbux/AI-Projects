{
 "cells": [
  {
   "cell_type": "code",
   "execution_count": 2,
   "id": "f63c4021-a8a2-475b-ba7b-3a9000121472",
   "metadata": {},
   "outputs": [],
   "source": [
    "from Environment import Environment"
   ]
  },
  {
   "cell_type": "code",
   "execution_count": 3,
   "id": "3117ab61-fc5f-4ba4-a156-c749ee125b51",
   "metadata": {},
   "outputs": [],
   "source": [
    "env = Environment()"
   ]
  },
  {
   "cell_type": "code",
   "execution_count": 4,
   "id": "128822c4-f241-4c23-8af3-10c6743caadc",
   "metadata": {},
   "outputs": [
    {
     "data": {
      "text/plain": [
       "[Position(x=0, y=0),\n",
       " Position(x=0, y=1),\n",
       " Position(x=0, y=2),\n",
       " Position(x=0, y=3),\n",
       " Position(x=0, y=4),\n",
       " Position(x=0, y=5),\n",
       " Position(x=0, y=6),\n",
       " Position(x=0, y=7),\n",
       " Position(x=0, y=8),\n",
       " Position(x=1, y=0),\n",
       " Position(x=1, y=1),\n",
       " Position(x=1, y=7),\n",
       " Position(x=1, y=8),\n",
       " Position(x=2, y=0),\n",
       " Position(x=2, y=1),\n",
       " Position(x=2, y=2),\n",
       " Position(x=2, y=3),\n",
       " Position(x=2, y=4),\n",
       " Position(x=2, y=5),\n",
       " Position(x=2, y=7),\n",
       " Position(x=2, y=8),\n",
       " Position(x=3, y=0),\n",
       " Position(x=3, y=1),\n",
       " Position(x=3, y=2),\n",
       " Position(x=3, y=3),\n",
       " Position(x=3, y=4),\n",
       " Position(x=3, y=5),\n",
       " Position(x=3, y=7),\n",
       " Position(x=3, y=8),\n",
       " Position(x=4, y=0),\n",
       " Position(x=4, y=1),\n",
       " Position(x=4, y=2),\n",
       " Position(x=4, y=3),\n",
       " Position(x=4, y=4),\n",
       " Position(x=4, y=5),\n",
       " Position(x=4, y=7),\n",
       " Position(x=4, y=8),\n",
       " Position(x=5, y=0),\n",
       " Position(x=5, y=1),\n",
       " Position(x=5, y=2),\n",
       " Position(x=5, y=3),\n",
       " Position(x=5, y=4),\n",
       " Position(x=5, y=5),\n",
       " Position(x=5, y=7),\n",
       " Position(x=5, y=8),\n",
       " Position(x=6, y=0),\n",
       " Position(x=6, y=1),\n",
       " Position(x=6, y=2),\n",
       " Position(x=6, y=3),\n",
       " Position(x=6, y=4),\n",
       " Position(x=6, y=6),\n",
       " Position(x=6, y=7),\n",
       " Position(x=6, y=8),\n",
       " Position(x=7, y=0),\n",
       " Position(x=7, y=5),\n",
       " Position(x=7, y=6),\n",
       " Position(x=7, y=7),\n",
       " Position(x=7, y=8),\n",
       " Position(x=8, y=0),\n",
       " Position(x=8, y=1),\n",
       " Position(x=8, y=2),\n",
       " Position(x=8, y=3),\n",
       " Position(x=8, y=4),\n",
       " Position(x=8, y=5),\n",
       " Position(x=8, y=6),\n",
       " Position(x=8, y=7)]"
      ]
     },
     "execution_count": 4,
     "metadata": {},
     "output_type": "execute_result"
    }
   ],
   "source": [
    "env.get_possible_start_states()"
   ]
  },
  {
   "cell_type": "code",
   "execution_count": null,
   "id": "a6640057-5a6e-45ce-827e-7c3bff45cf00",
   "metadata": {},
   "outputs": [],
   "source": []
  }
 ],
 "metadata": {
  "kernelspec": {
   "display_name": "Python 3 (ipykernel)",
   "language": "python",
   "name": "python3"
  },
  "language_info": {
   "codemirror_mode": {
    "name": "ipython",
    "version": 3
   },
   "file_extension": ".py",
   "mimetype": "text/x-python",
   "name": "python",
   "nbconvert_exporter": "python",
   "pygments_lexer": "ipython3",
   "version": "3.10.0"
  }
 },
 "nbformat": 4,
 "nbformat_minor": 5
}
