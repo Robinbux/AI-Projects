{
 "cells": [
  {
   "cell_type": "code",
   "execution_count": 3,
   "id": "8b62eb6c-115c-4605-9961-62ba0f5481b7",
   "metadata": {},
   "outputs": [],
   "source": [
    "import numpy as np\n",
    "import math"
   ]
  },
  {
   "cell_type": "markdown",
   "id": "614b5c22-2f19-467e-ab79-7a9d0f4c31ab",
   "metadata": {},
   "source": [
    "psi = 111 010 000\n",
    "\n",
    "phi = 111 000 000"
   ]
  },
  {
   "cell_type": "code",
   "execution_count": 4,
   "id": "43702cd1-727b-4c5d-b1e9-e701664a9d92",
   "metadata": {},
   "outputs": [
    {
     "name": "stdout",
     "output_type": "stream",
     "text": [
      "0.9341987329938275\n",
      "0.9759000729485331\n",
      "0.547722557505166\n",
      "0.5270462766947299\n"
     ]
    }
   ],
   "source": [
    "zero = [1, 0]\n",
    "one = [0, 1]\n",
    "psi_vectors = 1/math.sqrt(15) * np.array([1, 2, 3, 1])\n",
    "\n",
    "phi_zero_vectors = 1/math.sqrt(11) * np.array([1, 1, 3, 0])\n",
    "phi_one_vectors = 1/math.sqrt(7) * np.array([1, 1, 2, 1])\n",
    "phi_two_vectors = 1/math.sqrt(2) * np.array([1, 1, 0, 0])\n",
    "phi_three_vectors = 1/math.sqrt(6) * np.array([2, 1, 0, 1])\n",
    "\n",
    "braket_zero = np.dot(psi_vectors, phi_zero_vectors)\n",
    "braket_one = np.dot(psi_vectors, phi_one_vectors)\n",
    "braket_two = np.dot(psi_vectors, phi_two_vectors)\n",
    "braket_three = np.dot(psi_vectors, phi_three_vectors)\n",
    "\n",
    "print(braket_zero)\n",
    "print(braket_one)\n",
    "print(braket_two)\n",
    "print(braket_three)"
   ]
  },
  {
   "cell_type": "markdown",
   "id": "6b754871-df71-41d8-82de-e214fa379915",
   "metadata": {},
   "source": [
    "$$ Pr(0) = \\frac{1}{2} + \\frac{1}{2}|\\langle\\psi|\\phi\\rangle|^2 $$\n",
    "$$ Pr(1) = \\frac{1}{2} - \\frac{1}{2}|\\langle\\psi|\\phi\\rangle|^2 $$\n",
    "\n",
    "$$ \\text{Fidelity} = Pr(0) - Pr(1) = |\\langle\\psi|\\phi\\rangle|^2 $$"
   ]
  },
  {
   "cell_type": "code",
   "execution_count": 2,
   "id": "3fab20d9-222d-4055-a4f5-a3c545ea9a7b",
   "metadata": {},
   "outputs": [],
   "source": [
    "def fidelity(psi, phi):\n",
    "    braket = np.dot(psi, phi)\n",
    "    return abs(braket)**2"
   ]
  },
  {
   "cell_type": "code",
   "execution_count": 5,
   "id": "0a9d1f4e-c61b-4392-81b0-29e6c100ddfb",
   "metadata": {},
   "outputs": [
    {
     "data": {
      "text/plain": [
       "0.8727272727272726"
      ]
     },
     "execution_count": 5,
     "metadata": {},
     "output_type": "execute_result"
    }
   ],
   "source": [
    "fidelity(psi_vectors, phi_zero_vectors)"
   ]
  },
  {
   "cell_type": "code",
   "execution_count": null,
   "id": "fcb6cded-5aaf-4b93-bf12-51b7f54e1eca",
   "metadata": {},
   "outputs": [],
   "source": []
  }
 ],
 "metadata": {
  "kernelspec": {
   "display_name": "Python 3",
   "language": "python",
   "name": "python3"
  },
  "language_info": {
   "codemirror_mode": {
    "name": "ipython",
    "version": 3
   },
   "file_extension": ".py",
   "mimetype": "text/x-python",
   "name": "python",
   "nbconvert_exporter": "python",
   "pygments_lexer": "ipython3",
   "version": "3.8.5"
  }
 },
 "nbformat": 4,
 "nbformat_minor": 5
}
