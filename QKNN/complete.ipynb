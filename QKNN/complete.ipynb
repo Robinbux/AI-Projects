{
 "cells": [
  {
   "cell_type": "code",
   "execution_count": 21,
   "id": "30bf76a3-0e58-436b-852a-317a9701c8fe",
   "metadata": {},
   "outputs": [],
   "source": [
    "import numpy as np\n",
    "import random\n",
    "import heapq\n",
    "import itertools"
   ]
  },
  {
   "cell_type": "markdown",
   "id": "205cc452-cb0f-4135-be20-3e1627391e96",
   "metadata": {},
   "source": [
    "## SWAP Test generator"
   ]
  },
  {
   "cell_type": "code",
   "execution_count": 2,
   "id": "bad59ced-f3e4-49e1-9b32-27d514ce4352",
   "metadata": {},
   "outputs": [],
   "source": [
    "def swap_test(psi_state, phi_state):\n",
    "    n = len(psi_state)\n",
    "    qc = QuantumCircuit(n*2 + 1, 1)\n",
    "    qc.append(Initialize(psi_state), range(n))\n",
    "    qc.append(Initialize(phi_state), list(np.arange(n,n*2)))\n",
    "    qc.h(n*2)\n",
    "\n",
    "    for qubit in range (n):\n",
    "        qc.cswap(n*2, qubit, n+qubit)\n",
    "    \n",
    "    qc.h(n*2)\n",
    "    qc.measure(n*2, 0)\n",
    "    return qc"
   ]
  },
  {
   "cell_type": "markdown",
   "id": "0f682fc7-b731-43a3-b18e-c15b5ae0ddf5",
   "metadata": {},
   "source": [
    "### Generate all 4x4 image combinations"
   ]
  },
  {
   "cell_type": "code",
   "execution_count": 39,
   "id": "baff091b-4e3b-4a65-ab37-cbc64840b3f4",
   "metadata": {},
   "outputs": [],
   "source": [
    "four_pixel_array = np.array([\n",
    "    [1,1,1,1]\n",
    "])\n",
    "three_pixel_array = np.array([\n",
    "    [1,1,1,0],\n",
    "    [1,1,0,1],\n",
    "    [1,0,1,1],\n",
    "    [0,1,1,1]\n",
    "])\n",
    "two_pixel_array = np.array([\n",
    "    [1,1,0,0],\n",
    "    [1,0,1,0],\n",
    "    [1,0,0,1],\n",
    "    [0,1,1,0],\n",
    "    [0,1,0,1],\n",
    "    [0,0,1,1]\n",
    "])\n",
    "one_pixel_array = np.array([\n",
    "    [1,0,0,0],\n",
    "    [0,1,0,0],\n",
    "    [0,0,1,0],\n",
    "    [0,0,0,1],\n",
    "])\n",
    "zero_pixel_array = np.array([\n",
    "    [0,0,0,0]\n",
    "])\n",
    "\n",
    "first_row = (three_pixel_array,four_pixel_array)\n",
    "second_row = (two_pixel_array,three_pixel_array)\n",
    "third_row = (one_pixel_array,two_pixel_array)\n",
    "fourth_row = (zero_pixel_array,one_pixel_array)\n",
    "\n",
    "ceiling_images = []\n",
    "floor_images = []\n",
    "\n",
    "for first_array_list in first_row:\n",
    "    for second_array_list in second_row:\n",
    "        for third_array_list in third_row:\n",
    "            for fourth_array_list in fourth_row:\n",
    "                for first_array in first_array_list:\n",
    "                    for second_array in second_array_list:\n",
    "                        for third_array in third_array_list:\n",
    "                            for fourth_array in fourth_array_list:\n",
    "                                data = np.array([\n",
    "                                    first_array, second_array, third_array, fourth_array\n",
    "                                ])\n",
    "                                ceiling_images.append(data)\n",
    "                                \n",
    "for first_array_list in first_row:\n",
    "    for second_array_list in second_row:\n",
    "        for third_array_list in third_row:\n",
    "            for fourth_array_list in fourth_row:\n",
    "                for first_array in first_array_list:\n",
    "                    for second_array in second_array_list:\n",
    "                        for third_array in third_array_list:\n",
    "                            for fourth_array in fourth_array_list:\n",
    "                                data = np.array([\n",
    "                                    fourth_array, third_array, second_array, first_array\n",
    "                                ])\n",
    "                                floor_images.append(data)\n",
    "\n",
    "for i in range(len(ceiling_images)):\n",
    "    ceiling_images[i] = (ceiling_images[i], \"ceiling\")\n",
    "\n",
    "for i in range(len(floor_images)):\n",
    "    floor_images[i] = (floor_images[i], \"floor\")\n",
    "    \n",
    "random.shuffle(ceiling_images)\n",
    "random.shuffle(floor_images)\n",
    "\n",
    "ceiling_train = ceiling_images[:2000]\n",
    "ceiling_test = ceiling_images[2000:]\n",
    "\n",
    "floor_train = floor_images[:2000]\n",
    "floor_test = floor_images[2000:]\n",
    "\n",
    "training_images = ceiling_train + floor_train\n",
    "test_images = ceiling_test + floor_test\n",
    "\n",
    "random.shuffle(training_images)\n",
    "random.shuffle(test_images)"
   ]
  },
  {
   "cell_type": "code",
   "execution_count": 41,
   "id": "487f20ec-a850-44c6-8a42-61f1b2e573d7",
   "metadata": {},
   "outputs": [],
   "source": [
    "def create_unitary(v):\n",
    "    dim = v.size\n",
    "    # Return identity if v is a multiple of e1\n",
    "    if v[0][0] and not np.any(v[0][1:]):\n",
    "        return np.identity(dim)\n",
    "    e1 = np.zeros(dim)\n",
    "    e1[0] = 1\n",
    "    w = v/np.linalg.norm(v) - e1\n",
    "    return np.identity(dim) - 2*((np.dot(w.T, w))/(np.dot(w, w.T)))"
   ]
  },
  {
   "cell_type": "code",
   "execution_count": 53,
   "id": "6531a7f5-0dfd-485f-98df-8c4457bc23d4",
   "metadata": {},
   "outputs": [
    {
     "data": {
      "text/plain": [
       "array([[1, 0, 1, 1],\n",
       "       [1, 1, 1, 0],\n",
       "       [0, 1, 0, 0],\n",
       "       [0, 0, 0, 0]])"
      ]
     },
     "execution_count": 53,
     "metadata": {},
     "output_type": "execute_result"
    }
   ],
   "source": [
    "ceiling_images[0][0]"
   ]
  },
  {
   "cell_type": "code",
   "execution_count": 71,
   "id": "6b0635b7-1ddc-490d-94d4-1414b02ddb29",
   "metadata": {},
   "outputs": [
    {
     "name": "stdout",
     "output_type": "stream",
     "text": [
      "i: 0, j:0\n",
      "i: 0, j:2\n",
      "i: 0, j:3\n",
      "i: 1, j:0\n",
      "i: 1, j:1\n",
      "i: 1, j:2\n",
      "i: 2, j:1\n"
     ]
    },
    {
     "data": {
      "text/plain": [
       "array([[-0.,  0.,  0.,  0.,  0.,  0.,  0.,  0.,  0.,  0.,  0.,  0.,  0.,\n",
       "         0.,  0.,  0.],\n",
       "       [ 0.,  1.,  0.,  0.,  0.,  0.,  0.,  0.,  0.,  0.,  0.,  0.,  0.,\n",
       "         0.,  0.,  0.],\n",
       "       [ 0.,  0.,  1., -0.,  0., -0., -0.,  0.,  0.,  0., -0., -0.,  0.,\n",
       "         0.,  0., -0.],\n",
       "       [ 0.,  0., -0.,  1.,  0., -0., -0.,  0.,  0.,  0., -0., -0.,  0.,\n",
       "         0.,  0., -0.],\n",
       "       [ 0.,  0.,  0.,  0.,  1.,  0.,  0.,  0.,  0.,  0.,  0.,  0.,  0.,\n",
       "         0.,  0.,  0.],\n",
       "       [ 0.,  0., -0., -0.,  0.,  1., -0.,  0.,  0.,  0., -0., -0.,  0.,\n",
       "         0.,  0., -0.],\n",
       "       [ 0.,  0., -0., -0.,  0., -0.,  1.,  0.,  0.,  0., -0., -0.,  0.,\n",
       "         0.,  0., -0.],\n",
       "       [ 0.,  0.,  0.,  0.,  0.,  0.,  0.,  1.,  0.,  0.,  0.,  0.,  0.,\n",
       "         0.,  0.,  0.],\n",
       "       [ 0.,  0.,  0.,  0.,  0.,  0.,  0.,  0.,  1.,  0.,  0.,  0.,  0.,\n",
       "         0.,  0.,  0.],\n",
       "       [ 0.,  0.,  0.,  0.,  0.,  0.,  0.,  0.,  0.,  1.,  0.,  0.,  0.,\n",
       "         0.,  0.,  0.],\n",
       "       [ 0.,  0., -0., -0.,  0., -0., -0.,  0.,  0.,  0.,  1., -0.,  0.,\n",
       "         0.,  0., -0.],\n",
       "       [ 0.,  0., -0., -0.,  0., -0., -0.,  0.,  0.,  0., -0.,  1.,  0.,\n",
       "         0.,  0., -0.],\n",
       "       [ 0.,  0.,  0.,  0.,  0.,  0.,  0.,  0.,  0.,  0.,  0.,  0.,  1.,\n",
       "         0.,  0.,  0.],\n",
       "       [ 0.,  0.,  0.,  0.,  0.,  0.,  0.,  0.,  0.,  0.,  0.,  0.,  0.,\n",
       "         1.,  0.,  0.],\n",
       "       [ 0.,  0.,  0.,  0.,  0.,  0.,  0.,  0.,  0.,  0.,  0.,  0.,  0.,\n",
       "         0.,  1.,  0.],\n",
       "       [ 0.,  0., -0., -0.,  0., -0., -0.,  0.,  0.,  0., -0., -0.,  0.,\n",
       "         0.,  0.,  1.]])"
      ]
     },
     "execution_count": 71,
     "metadata": {},
     "output_type": "execute_result"
    }
   ],
   "source": [
    "vectors_to_sum = []\n",
    "for i in range (4):\n",
    "    for j in range(4):\n",
    "        if ceiling_images[0][0][i][j] == 1:\n",
    "            print(f\"i: {i}, j:{j}\")\n",
    "            state_vector_index = double_index_to_index_mapping[str(i)+str(j)]\n",
    "            state_vector = pixel_index_to_statevector_mapping[state_vector_index]\n",
    "            vectors_to_sum.append(state_vector)\n",
    "vec = np.array([sum(vectors_to_sum)])\n",
    "create_unitary(vec).round()"
   ]
  },
  {
   "cell_type": "code",
   "execution_count": 58,
   "id": "9b747ce0-002d-4a49-843c-163af0aa94b2",
   "metadata": {},
   "outputs": [],
   "source": [
    "pixel_index_to_statevector_mapping = {\n",
    "    0:  np.array([1, 0, 0, 0, 0, 0, 0, 0, 0, 0, 0, 0, 0, 0, 0, 0]),\n",
    "    1:  np.array([0, 1, 0, 0, 0, 0, 0, 0, 0, 0, 0, 0, 0, 0, 0, 0]),\n",
    "    2:  np.array([0, 0, 1, 0, 0, 0, 0, 0, 0, 0, 0, 0, 0, 0, 0, 0]),\n",
    "    3:  np.array([0, 0, 0, 1, 0, 0, 0, 0, 0, 0, 0, 0, 0, 0, 0, 0]),\n",
    "    4:  np.array([0, 0, 0, 0, 1, 0, 0, 0, 0, 0, 0, 0, 0, 0, 0, 0]),\n",
    "    5:  np.array([0, 0, 0, 0, 0, 1, 0, 0, 0, 0, 0, 0, 0, 0, 0, 0]),\n",
    "    6:  np.array([0, 0, 0, 0, 0, 0, 1, 0, 0, 0, 0, 0, 0, 0, 0, 0]),\n",
    "    7:  np.array([0, 0, 0, 0, 0, 0, 0, 1, 0, 0, 0, 0, 0, 0, 0, 0]),\n",
    "    8:  np.array([0, 0, 0, 0, 0, 0, 0, 0, 1, 0, 0, 0, 0, 0, 0, 0]),\n",
    "    9:  np.array([0, 0, 0, 0, 0, 0, 0, 0, 0, 1, 0, 0, 0, 0, 0, 0]),\n",
    "    10: np.array([0, 0, 0, 0, 0, 0, 0, 0, 0, 0, 1, 0, 0, 0, 0, 0]),\n",
    "    11: np.array([0, 0, 0, 0, 0, 0, 0, 0, 0, 0, 0, 1, 0, 0, 0, 0]),\n",
    "    12: np.array([0, 0, 0, 0, 0, 0, 0, 0, 0, 0, 0, 0, 1, 0, 0, 0]),\n",
    "    13: np.array([0, 0, 0, 0, 0, 0, 0, 0, 0, 0, 0, 0, 0, 1, 0, 0]),\n",
    "    14: np.array([0, 0, 0, 0, 0, 0, 0, 0, 0, 0, 0, 0, 0, 0, 1, 0]),\n",
    "    15: np.array([0, 0, 0, 0, 0, 0, 0, 0, 0, 0, 0, 0, 0, 0, 0, 1])\n",
    "}\n",
    "\n",
    "double_index_to_index_mapping = {\n",
    "    \"00\": 3,\n",
    "    \"01\": 7,\n",
    "    \"02\": 11,\n",
    "    \"03\": 15,\n",
    "    \"10\": 2,\n",
    "    \"11\": 6,\n",
    "    \"12\": 10,\n",
    "    \"13\": 14,\n",
    "    \"20\": 1,\n",
    "    \"21\": 5,\n",
    "    \"22\": 9,\n",
    "    \"23\": 13,\n",
    "    \"30\": 0,\n",
    "    \"31\": 4,\n",
    "    \"32\": 8,\n",
    "    \"33\": 12,\n",
    "}"
   ]
  },
  {
   "cell_type": "code",
   "execution_count": 72,
   "id": "aef78aa6-92aa-42f9-8cba-292b4ebc97e0",
   "metadata": {},
   "outputs": [],
   "source": [
    "def perform_unitary_check(W):\n",
    "    #array_to_latex(W, pretext=\"\\\\text{W} = \")\n",
    "    W_transposed = np.transpose(W)\n",
    "    #array_to_latex(W_transposed, pretext=\"\\\\text{W}^* = \")\n",
    "    result = np.dot(W, W_transposed).round()\n",
    "    #array_to_latex(result, pretext=\"W^*W = \")\n",
    "    return np.all(np.equal(result, np.eye(result.shape[0])))\n"
   ]
  },
  {
   "cell_type": "code",
   "execution_count": 74,
   "id": "3da023d6-d82b-4dd4-8d17-6428f3a26aaf",
   "metadata": {},
   "outputs": [
    {
     "data": {
      "text/plain": [
       "True"
      ]
     },
     "execution_count": 74,
     "metadata": {},
     "output_type": "execute_result"
    }
   ],
   "source": []
  },
  {
   "cell_type": "code",
   "execution_count": null,
   "id": "be50b4b6-e71b-470a-a591-6b342a80915f",
   "metadata": {},
   "outputs": [],
   "source": []
  }
 ],
 "metadata": {
  "kernelspec": {
   "display_name": "Python 3",
   "language": "python",
   "name": "python3"
  },
  "language_info": {
   "codemirror_mode": {
    "name": "ipython",
    "version": 3
   },
   "file_extension": ".py",
   "mimetype": "text/x-python",
   "name": "python",
   "nbconvert_exporter": "python",
   "pygments_lexer": "ipython3",
   "version": "3.8.5"
  }
 },
 "nbformat": 4,
 "nbformat_minor": 5
}
