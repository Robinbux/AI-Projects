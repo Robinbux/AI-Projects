{
 "cells": [
  {
   "cell_type": "markdown",
   "id": "fd284897-8518-4885-b47f-72cc2c8f7c29",
   "metadata": {},
   "source": [
    "<img src=\"images/example_images.png\" style=\"width:600px;\"/>\n",
    "\n",
    "$$\n",
    "\\begin{aligned}\n",
    "&|\\psi\\rangle \\rightarrow |0010\\rangle|0110\\rangle|1010\\rangle|0101\\rangle &\\rightarrow \\frac{1}{\\sqrt{4}}(0010011000100000)^T\\\\\n",
    "&|\\phi_0\\rangle \\rightarrow |0010\\rangle|0110\\rangle|1010\\rangle &\\rightarrow \\frac{1}{\\sqrt{3}}(0010001000100000)^T\\\\\n",
    "&|\\phi_1\\rangle \\rightarrow |0110\\rangle|1010\\rangle|0001\\rangle &\\rightarrow \\frac{1}{\\sqrt{3}}(0100001000100000)^T\\\\\n",
    "&|\\phi_2\\rangle \\rightarrow |0000\\rangle|0100\\rangle|1000\\rangle &\\rightarrow \\frac{1}{\\sqrt{3}}(1000100010000000)^T\\\\\n",
    "&|\\phi_3\\rangle \\rightarrow |0000\\rangle|0100\\rangle|1000\\rangle|1001\\rangle &\\rightarrow \\frac{1}{\\sqrt{4}}(1000100011000000)^T\n",
    "\\end{aligned}\n",
    "$$\n",
    "\n",
    "# Oracle W\n",
    "$$\n",
    "j = \\text{Index of training image}\\\\\n",
    "|0^n\\rangle \\xrightarrow{\\mathcal{V}}|\\psi\\rangle\\\\\n",
    "|j\\rangle|0^n\\rangle\\xrightarrow{\\mathcal{W}}|j\\rangle|\\phi_j\\rangle\n",
    "$$\n",
    "\n",
    "Example:\n",
    "\n",
    "$$\n",
    "|0^n\\rangle \\xrightarrow{\\mathcal{V}}\\frac{1}{\\sqrt{11}}|1231\\rangle\\\\\n",
    "|00\\rangle|0^n\\rangle\\xrightarrow{\\mathcal{W}}|00\\rangle\\frac{1}{\\sqrt{11}}|1130\\rangle\n",
    "$$\n",
    "\n",
    "Variables:\n",
    "\n",
    "$$\n",
    "\\begin{aligned}\n",
    "M &= \\text{Amount of train images}\\\\\n",
    "N &= \\text{Dimension of Hilbert space}\\\\\n",
    "m &= \\log{M}\\\\\n",
    "n &= \\log{N}\\\\\n",
    "b &= \\text{Number of qubits required to store the fidelity value}\n",
    "\\end{aligned}\n",
    "$$\n",
    "\n",
    "## Circuits:\n",
    "### Circuit complete\n",
    "<img src=\"images/circuit_complete.png\" style=\"width:800px;\"/>\n",
    "\n",
    "### Circuit Eamp\n",
    "<img src=\"images/circuit_eamp.png\" style=\"width:600px;\"/>\n"
   ]
  },
  {
   "cell_type": "code",
   "execution_count": 1,
   "id": "20a5701a-0d8f-45f7-8035-a9d6113f23c2",
   "metadata": {},
   "outputs": [
    {
     "name": "stderr",
     "output_type": "stream",
     "text": [
      "/Users/robinbux/anaconda3/lib/python3.8/site-packages/qiskit/quantum_info/operators/pauli.py:111: DeprecationWarning: `np.bool` is a deprecated alias for the builtin `bool`. To silence this warning, use `bool` by itself. Doing this will not modify any behavior and is safe. If you specifically wanted the numpy scalar type, use `np.bool_` here.\n",
      "Deprecated in NumPy 1.20; for more details and guidance: https://numpy.org/devdocs/release/1.20.0-notes.html#deprecations\n",
      "  z = np.zeros(len(label), dtype=np.bool)\n",
      "/Users/robinbux/anaconda3/lib/python3.8/site-packages/qiskit/quantum_info/operators/pauli.py:112: DeprecationWarning: `np.bool` is a deprecated alias for the builtin `bool`. To silence this warning, use `bool` by itself. Doing this will not modify any behavior and is safe. If you specifically wanted the numpy scalar type, use `np.bool_` here.\n",
      "Deprecated in NumPy 1.20; for more details and guidance: https://numpy.org/devdocs/release/1.20.0-notes.html#deprecations\n",
      "  x = np.zeros(len(label), dtype=np.bool)\n",
      "/Users/robinbux/anaconda3/lib/python3.8/site-packages/qiskit/quantum_info/operators/pauli.py:34: DeprecationWarning: `np.bool` is a deprecated alias for the builtin `bool`. To silence this warning, use `bool` by itself. Doing this will not modify any behavior and is safe. If you specifically wanted the numpy scalar type, use `np.bool_` here.\n",
      "Deprecated in NumPy 1.20; for more details and guidance: https://numpy.org/devdocs/release/1.20.0-notes.html#deprecations\n",
      "  arr = np.asarray(arr).astype(np.bool)\n",
      "/Users/robinbux/anaconda3/lib/python3.8/site-packages/qiskit/quantum_info/operators/pauli.py:34: DeprecationWarning: `np.bool` is a deprecated alias for the builtin `bool`. To silence this warning, use `bool` by itself. Doing this will not modify any behavior and is safe. If you specifically wanted the numpy scalar type, use `np.bool_` here.\n",
      "Deprecated in NumPy 1.20; for more details and guidance: https://numpy.org/devdocs/release/1.20.0-notes.html#deprecations\n",
      "  arr = np.asarray(arr).astype(np.bool)\n",
      "/Users/robinbux/anaconda3/lib/python3.8/site-packages/qiskit/quantum_info/operators/pauli.py:111: DeprecationWarning: `np.bool` is a deprecated alias for the builtin `bool`. To silence this warning, use `bool` by itself. Doing this will not modify any behavior and is safe. If you specifically wanted the numpy scalar type, use `np.bool_` here.\n",
      "Deprecated in NumPy 1.20; for more details and guidance: https://numpy.org/devdocs/release/1.20.0-notes.html#deprecations\n",
      "  z = np.zeros(len(label), dtype=np.bool)\n",
      "/Users/robinbux/anaconda3/lib/python3.8/site-packages/qiskit/quantum_info/operators/pauli.py:112: DeprecationWarning: `np.bool` is a deprecated alias for the builtin `bool`. To silence this warning, use `bool` by itself. Doing this will not modify any behavior and is safe. If you specifically wanted the numpy scalar type, use `np.bool_` here.\n",
      "Deprecated in NumPy 1.20; for more details and guidance: https://numpy.org/devdocs/release/1.20.0-notes.html#deprecations\n",
      "  x = np.zeros(len(label), dtype=np.bool)\n",
      "/Users/robinbux/anaconda3/lib/python3.8/site-packages/qiskit/quantum_info/operators/pauli.py:34: DeprecationWarning: `np.bool` is a deprecated alias for the builtin `bool`. To silence this warning, use `bool` by itself. Doing this will not modify any behavior and is safe. If you specifically wanted the numpy scalar type, use `np.bool_` here.\n",
      "Deprecated in NumPy 1.20; for more details and guidance: https://numpy.org/devdocs/release/1.20.0-notes.html#deprecations\n",
      "  arr = np.asarray(arr).astype(np.bool)\n",
      "/Users/robinbux/anaconda3/lib/python3.8/site-packages/qiskit/quantum_info/operators/pauli.py:34: DeprecationWarning: `np.bool` is a deprecated alias for the builtin `bool`. To silence this warning, use `bool` by itself. Doing this will not modify any behavior and is safe. If you specifically wanted the numpy scalar type, use `np.bool_` here.\n",
      "Deprecated in NumPy 1.20; for more details and guidance: https://numpy.org/devdocs/release/1.20.0-notes.html#deprecations\n",
      "  arr = np.asarray(arr).astype(np.bool)\n",
      "/Users/robinbux/anaconda3/lib/python3.8/site-packages/qiskit/quantum_info/operators/pauli.py:111: DeprecationWarning: `np.bool` is a deprecated alias for the builtin `bool`. To silence this warning, use `bool` by itself. Doing this will not modify any behavior and is safe. If you specifically wanted the numpy scalar type, use `np.bool_` here.\n",
      "Deprecated in NumPy 1.20; for more details and guidance: https://numpy.org/devdocs/release/1.20.0-notes.html#deprecations\n",
      "  z = np.zeros(len(label), dtype=np.bool)\n",
      "/Users/robinbux/anaconda3/lib/python3.8/site-packages/qiskit/quantum_info/operators/pauli.py:112: DeprecationWarning: `np.bool` is a deprecated alias for the builtin `bool`. To silence this warning, use `bool` by itself. Doing this will not modify any behavior and is safe. If you specifically wanted the numpy scalar type, use `np.bool_` here.\n",
      "Deprecated in NumPy 1.20; for more details and guidance: https://numpy.org/devdocs/release/1.20.0-notes.html#deprecations\n",
      "  x = np.zeros(len(label), dtype=np.bool)\n",
      "/Users/robinbux/anaconda3/lib/python3.8/site-packages/qiskit/quantum_info/operators/pauli.py:34: DeprecationWarning: `np.bool` is a deprecated alias for the builtin `bool`. To silence this warning, use `bool` by itself. Doing this will not modify any behavior and is safe. If you specifically wanted the numpy scalar type, use `np.bool_` here.\n",
      "Deprecated in NumPy 1.20; for more details and guidance: https://numpy.org/devdocs/release/1.20.0-notes.html#deprecations\n",
      "  arr = np.asarray(arr).astype(np.bool)\n",
      "/Users/robinbux/anaconda3/lib/python3.8/site-packages/qiskit/quantum_info/operators/pauli.py:34: DeprecationWarning: `np.bool` is a deprecated alias for the builtin `bool`. To silence this warning, use `bool` by itself. Doing this will not modify any behavior and is safe. If you specifically wanted the numpy scalar type, use `np.bool_` here.\n",
      "Deprecated in NumPy 1.20; for more details and guidance: https://numpy.org/devdocs/release/1.20.0-notes.html#deprecations\n",
      "  arr = np.asarray(arr).astype(np.bool)\n",
      "/Users/robinbux/anaconda3/lib/python3.8/site-packages/qiskit/quantum_info/operators/pauli.py:111: DeprecationWarning: `np.bool` is a deprecated alias for the builtin `bool`. To silence this warning, use `bool` by itself. Doing this will not modify any behavior and is safe. If you specifically wanted the numpy scalar type, use `np.bool_` here.\n",
      "Deprecated in NumPy 1.20; for more details and guidance: https://numpy.org/devdocs/release/1.20.0-notes.html#deprecations\n",
      "  z = np.zeros(len(label), dtype=np.bool)\n",
      "/Users/robinbux/anaconda3/lib/python3.8/site-packages/qiskit/quantum_info/operators/pauli.py:112: DeprecationWarning: `np.bool` is a deprecated alias for the builtin `bool`. To silence this warning, use `bool` by itself. Doing this will not modify any behavior and is safe. If you specifically wanted the numpy scalar type, use `np.bool_` here.\n",
      "Deprecated in NumPy 1.20; for more details and guidance: https://numpy.org/devdocs/release/1.20.0-notes.html#deprecations\n",
      "  x = np.zeros(len(label), dtype=np.bool)\n",
      "/Users/robinbux/anaconda3/lib/python3.8/site-packages/qiskit/quantum_info/operators/pauli.py:34: DeprecationWarning: `np.bool` is a deprecated alias for the builtin `bool`. To silence this warning, use `bool` by itself. Doing this will not modify any behavior and is safe. If you specifically wanted the numpy scalar type, use `np.bool_` here.\n",
      "Deprecated in NumPy 1.20; for more details and guidance: https://numpy.org/devdocs/release/1.20.0-notes.html#deprecations\n",
      "  arr = np.asarray(arr).astype(np.bool)\n",
      "/Users/robinbux/anaconda3/lib/python3.8/site-packages/qiskit/quantum_info/operators/pauli.py:34: DeprecationWarning: `np.bool` is a deprecated alias for the builtin `bool`. To silence this warning, use `bool` by itself. Doing this will not modify any behavior and is safe. If you specifically wanted the numpy scalar type, use `np.bool_` here.\n",
      "Deprecated in NumPy 1.20; for more details and guidance: https://numpy.org/devdocs/release/1.20.0-notes.html#deprecations\n",
      "  arr = np.asarray(arr).astype(np.bool)\n"
     ]
    },
    {
     "ename": "ModuleNotFoundError",
     "evalue": "No module named 'qiskit_textbook'",
     "output_type": "error",
     "traceback": [
      "\u001b[0;31m---------------------------------------------------------------------------\u001b[0m",
      "\u001b[0;31mModuleNotFoundError\u001b[0m                       Traceback (most recent call last)",
      "\u001b[0;32m<ipython-input-1-86647a75559c>\u001b[0m in \u001b[0;36m<module>\u001b[0;34m\u001b[0m\n\u001b[1;32m      8\u001b[0m \u001b[0;32mfrom\u001b[0m \u001b[0mqiskit\u001b[0m\u001b[0;34m.\u001b[0m\u001b[0maqua\u001b[0m \u001b[0;32mimport\u001b[0m \u001b[0mQuantumInstance\u001b[0m\u001b[0;34m\u001b[0m\u001b[0;34m\u001b[0m\u001b[0m\n\u001b[1;32m      9\u001b[0m \u001b[0;32mfrom\u001b[0m \u001b[0mqiskit\u001b[0m\u001b[0;34m.\u001b[0m\u001b[0mquantum_info\u001b[0m\u001b[0;34m.\u001b[0m\u001b[0moperators\u001b[0m \u001b[0;32mimport\u001b[0m \u001b[0mOperator\u001b[0m\u001b[0;34m\u001b[0m\u001b[0;34m\u001b[0m\u001b[0m\n\u001b[0;32m---> 10\u001b[0;31m \u001b[0;32mfrom\u001b[0m \u001b[0mqiskit_textbook\u001b[0m\u001b[0;34m.\u001b[0m\u001b[0mtools\u001b[0m \u001b[0;32mimport\u001b[0m \u001b[0marray_to_latex\u001b[0m\u001b[0;34m\u001b[0m\u001b[0;34m\u001b[0m\u001b[0m\n\u001b[0m\u001b[1;32m     11\u001b[0m \u001b[0;34m\u001b[0m\u001b[0m\n\u001b[1;32m     12\u001b[0m \u001b[0;32mfrom\u001b[0m \u001b[0mnumpy\u001b[0m \u001b[0;32mimport\u001b[0m \u001b[0mpi\u001b[0m\u001b[0;34m\u001b[0m\u001b[0;34m\u001b[0m\u001b[0m\n",
      "\u001b[0;31mModuleNotFoundError\u001b[0m: No module named 'qiskit_textbook'"
     ]
    }
   ],
   "source": [
    "from qiskit import QuantumRegister, ClassicalRegister, QuantumCircuit, IBMQ, \\\n",
    "                   Aer, BasicAer, assemble, transpile, execute\n",
    "from qiskit.circuit.library.standard_gates.swap import SwapGate\n",
    "from qiskit.providers.ibmq import least_busy\n",
    "from qiskit.visualization import plot_histogram\n",
    "from qiskit.quantum_info import Statevector\n",
    "from qiskit.extensions.quantum_initializer.initializer import Initialize\n",
    "from qiskit.aqua import QuantumInstance\n",
    "from qiskit.quantum_info.operators import Operator\n",
    "from qiskit_textbook.tools import array_to_latex\n",
    "\n",
    "from numpy import pi\n",
    "import numpy as np\n",
    "import math\n",
    "\n",
    "# Custom\n",
    "from util import *"
   ]
  },
  {
   "cell_type": "code",
   "execution_count": null,
   "id": "0d484cbc-20cd-4083-a5db-4af826c61446",
   "metadata": {},
   "outputs": [],
   "source": [
    "# Variables\n",
    "m = 2\n",
    "n = 4"
   ]
  },
  {
   "cell_type": "code",
   "execution_count": null,
   "id": "e4589ee6-ac5e-4ac4-b94e-d7c88a300143",
   "metadata": {},
   "outputs": [],
   "source": [
    "W_oracle = create_w_oracle(j = 0)\n",
    "V_oracle = create_v_oracle()\n",
    "U_oracle = create_u_oracle()\n",
    "\n",
    "index_register = QuantumRegister(2, 'index')\n",
    "train_register = QuantumRegister(4, 'train')\n",
    "test_register = QuantumRegister(4, 'test')\n",
    "B_register = QuantumRegister(1, 'b')\n",
    "qc = QuantumCircuit(index_register, train_register, test_register, B_register)\n",
    "\n",
    "qc.append(W_oracle, [*index_register[:],*train_register[:]])\n",
    "qc.append(U_oracle, [*train_register[:],*test_register[:],B_register[0]])\n",
    "\n",
    "qc.decompose().draw(output=\"mpl\", initial_state=True)"
   ]
  },
  {
   "cell_type": "code",
   "execution_count": null,
   "id": "b3aa7be1-9253-4a8f-b328-ff92a2d14fb0",
   "metadata": {},
   "outputs": [],
   "source": [
    "#def swap_test(phi_state, psi_state):\n",
    "sv = Statevector.from_label('111111111')\n",
    "qc = QuantumCircuit(n*2 + 1)\n",
    "sv.evolve(qc)\n",
    "\n",
    "circuit = QuantumCircuit(6)\n",
    "circuit.append(Initialize(\"1+-\"), range(3))\n",
    "circuit.append(Initialize(\"101\"), list(np.arange(3,6)))\n",
    "\n",
    "#for qubit in range (n):\n",
    "#    circuit.cswap(B_register[0], train_register[qubit], test_register[qubit])\n",
    "#qc.h(B_register[0])\n",
    "circuit.decompose().draw()"
   ]
  },
  {
   "cell_type": "code",
   "execution_count": null,
   "id": "65f5c073-deec-4f65-bf14-80f80aaa6117",
   "metadata": {},
   "outputs": [],
   "source": [
    "def swap_test(psi_state, phi_state):\n",
    "    n = len(psi_state)\n",
    "    qc = QuantumCircuit(n*2 + 1, 1)\n",
    "    qc.append(Initialize(psi_state), range(n))\n",
    "    qc.append(Initialize(phi_state), list(np.arange(n,n*2)))\n",
    "    qc.h(n*2)\n",
    "\n",
    "    for qubit in range (n):\n",
    "        qc.cswap(n*2, qubit, n+qubit)\n",
    "    \n",
    "    qc.h(n*2)\n",
    "    qc.measure(n*2, 0)\n",
    "    return qc"
   ]
  },
  {
   "cell_type": "code",
   "execution_count": null,
   "id": "de6b349e-3623-497d-839a-9af4ffcbbb64",
   "metadata": {},
   "outputs": [],
   "source": [
    "psi_state_one = \"000100010\"\n",
    "phi_state_one = \"000010000\"\n",
    "\n",
    "psi_state_two = \"111111111\"\n",
    "phi_state_two = \"111111111\"\n",
    "\n",
    "qc = swap_test(psi_state_two, phi_state_two)\n",
    "#qc.draw(output=\"mpl\")\n",
    "\n",
    "simulator = BasicAer.get_backend('qasm_simulator')\n",
    "\n",
    "job = execute(qc, simulator, shots = 1000)\n",
    "\n",
    "result = job.result()\n",
    "counts = result.get_counts(qc)\n",
    "\n",
    "print(counts)\n",
    "\n",
    "#print(result)"
   ]
  },
  {
   "cell_type": "code",
   "execution_count": null,
   "id": "53dbbaa7-1f57-48d4-b1e0-fe330eb47209",
   "metadata": {},
   "outputs": [],
   "source": [
    "qc.draw(output=\"mpl\")"
   ]
  },
  {
   "cell_type": "code",
   "execution_count": null,
   "id": "01ff5c74-6575-4259-844b-d88a5b9134ea",
   "metadata": {},
   "outputs": [],
   "source": [
    "psi = np.array([[0,0,1,0,0,1,1,0,0,0,1,0,0,0,0,0]])\n",
    "phi_zero = np.array([[0,0,1,0,0,0,1,0,0,0,1,0,0,0,0,0]])\n",
    "phi_one = np.array([[0,1,0,0,0,0,1,0,0,0,1,0,0,0,0,0]])\n",
    "phi_two = np.array([[1,0,0,0,1,0,0,0,1,0,0,0,0,0,0,0]])\n",
    "phi_three = np.array([[1,0,0,0,1,0,0,0,1,1,0,0,0,0,0,0]])\n",
    "\n",
    "matrix_psi = create_unitary(psi)\n",
    "matrix_phi_zero = create_unitary(phi_zero)\n",
    "matrix_phi_one = create_unitary(phi_one)\n",
    "matrix_phi_two = create_unitary(phi_two)\n",
    "matrix_phi_three = create_unitary(phi_three)"
   ]
  },
  {
   "cell_type": "code",
   "execution_count": null,
   "id": "31ad97ad-2693-4ed1-bca3-c3e1c95f83af",
   "metadata": {},
   "outputs": [],
   "source": [
    "controls = QuantumRegister(4)\n",
    "circuit = QuantumCircuit(controls)\n",
    "\n",
    "cx = Operator(matrix_psi)\n",
    "circuit.unitary(cx, [0, 1, 2, 3], label='cx')\n",
    "circuit.draw()"
   ]
  },
  {
   "cell_type": "code",
   "execution_count": null,
   "id": "1b109d76-ca21-40c2-b061-fc2afe38d744",
   "metadata": {},
   "outputs": [],
   "source": [
    "cx.is_unitary()"
   ]
  },
  {
   "cell_type": "code",
   "execution_count": null,
   "id": "97875857",
   "metadata": {},
   "outputs": [],
   "source": [
    "m = 2\n",
    "n = 4\n",
    "\n",
    "psi = np.array([[0,0,1,0,0,1,1,0,0,0,1,0,0,0,0,0]])\n",
    "phi_zero = np.array([[0,0,1,0,0,0,1,0,0,0,1,0,0,0,0,0]])\n",
    "phi_one = np.array([[0,1,0,0,0,0,1,0,0,0,1,0,0,0,0,0]])\n",
    "phi_two = np.array([[1,0,0,0,1,0,0,0,1,0,0,0,0,0,0,0]])\n",
    "phi_three = np.array([[1,0,0,0,1,0,0,0,1,1,0,0,0,0,0,0]])\n",
    "\n",
    "matrix_psi = create_unitary(psi)\n",
    "matrix_phi_zero = create_unitary(phi_zero)\n",
    "matrix_phi_one = create_unitary(phi_one)\n",
    "matrix_phi_two = create_unitary(phi_two)\n",
    "matrix_phi_three = create_unitary(phi_three)\n",
    "\n",
    "phi_matrices = [matrix_phi_zero, matrix_phi_one, matrix_phi_two, matrix_phi_three]\n"
   ]
  },
  {
   "cell_type": "code",
   "execution_count": null,
   "id": "7a072222-a1d9-4310-9f9e-ab39161b56cc",
   "metadata": {},
   "outputs": [],
   "source": [
    "def test(j):\n",
    "    W_state_preparation_oracle_circuit = QuantumCircuit(m + n)\n",
    "    \n",
    "    matrix_operator = Operator(phi_matrices[j])\n",
    "    # [2,3,4,5]\n",
    "    # list(range(n, n+m))\n",
    "    W_state_preparation_oracle_circuit.unitary(matrix_operator, np.arange(m,m+n), label='W')\n",
    "    \n",
    "    W_oracle = W_state_preparation_oracle_circuit.to_gate()\n",
    "    W_oracle.name = \"$W$\"\n",
    "    return W_oracle"
   ]
  },
  {
   "cell_type": "code",
   "execution_count": null,
   "id": "f6348a4d",
   "metadata": {},
   "outputs": [],
   "source": [
    "test(0)"
   ]
  },
  {
   "cell_type": "code",
   "execution_count": null,
   "id": "132e626b",
   "metadata": {},
   "outputs": [],
   "source": [
    "zero_ket = np.zeros((2**9, 1))\n",
    "zero_ket[0] = 1\n",
    "zero_bra = zero_ket.T\n",
    "np.outer(zero_ket, zero_bra)"
   ]
  },
  {
   "cell_type": "code",
   "execution_count": null,
   "id": "8399bdd9",
   "metadata": {},
   "outputs": [],
   "source": [
    "zero_ket = np.zeros((2, 1))\n",
    "zero_ket[0] = 1\n",
    "zero_bra = zero_ket.T"
   ]
  },
  {
   "cell_type": "code",
   "execution_count": null,
   "id": "2cba2a65",
   "metadata": {},
   "outputs": [],
   "source": [
    "test = np.outer(zero_ket, zero_bra)\n",
    "test[0][1] = 1\n",
    "test.T"
   ]
  },
  {
   "cell_type": "code",
   "execution_count": null,
   "id": "f9622fb6",
   "metadata": {},
   "outputs": [],
   "source": [
    "j = 0\n",
    "W_oracle = create_w_oracle(j)\n",
    "U_oracle = create_u_oracle()\n",
    "G_gate = create_g_gate(j)\n",
    "    \n",
    "index_register = QuantumRegister(2, 'index')\n",
    "train_register = QuantumRegister(4, 'train')\n",
    "test_register = QuantumRegister(4, 'test')\n",
    "B_register = QuantumRegister(1, 'b')\n",
    "qc = QuantumCircuit(index_register, train_register, test_register, B_register)\n",
    "\n",
    "\n",
    "qc.append(W_oracle, [*index_register[:],*train_register[:]])\n",
    "qc.append(U_oracle, [*test_register[:],*train_register[:], B_register[0]])\n",
    "qc.append(G_gate, [*index_register[:],*train_register[:], *test_register[:], B_register[0]])\n",
    "\n",
    "qc.decompose().draw(output=\"mpl\", initial_state=True)"
   ]
  },
  {
   "cell_type": "code",
   "execution_count": null,
   "id": "1a201d16",
   "metadata": {},
   "outputs": [],
   "source": [
    "# phase_est_gate = phase_estimation_on_g(0)\n",
    "\n",
    "# index_register = QuantumRegister(2, 'index')\n",
    "# train_register = QuantumRegister(4, 'train')\n",
    "# test_register = QuantumRegister(4, 'test')\n",
    "# B_register = QuantumRegister(1, 'b')\n",
    "# phase_register = QuantumRegister(4, 'phase')\n",
    "    \n",
    "# qc = QuantumCircuit(index_register, train_register, test_register, B_register, phase_register)\n",
    "# qc.append(phase_est_gate, [*index_register[:],*train_register[:], *test_register[:], B_register[0], *phase_register[:]])\n",
    "\n",
    "# qc.draw(output=\"mpl\", initial_state=True)\n"
   ]
  },
  {
   "cell_type": "code",
   "execution_count": null,
   "id": "02b8378b",
   "metadata": {},
   "outputs": [],
   "source": [
    "# Variables\n",
    "m = 2\n",
    "n = 4\n",
    "b = 3"
   ]
  },
  {
   "cell_type": "code",
   "execution_count": null,
   "id": "9e6e9ac0",
   "metadata": {},
   "outputs": [],
   "source": [
    "def phase_estimation_on_g(j):\n",
    "    G_gate_controll = create_g_gate(j).control(1)\n",
    "    \n",
    "    index_register = QuantumRegister(m, 'index')\n",
    "    train_register = QuantumRegister(n, 'train')\n",
    "    test_register = QuantumRegister(n, 'test')\n",
    "    B_register = QuantumRegister(1, 'b')\n",
    "    phase_register = QuantumRegister(b, 'phase')    \n",
    "    \n",
    "    phase_est_circ = QuantumCircuit(index_register, train_register, test_register, B_register, phase_register)\n",
    "    \n",
    "    # Hadamard\n",
    "    for qubit in range(b):\n",
    "        phase_est_circ.h(phase_register[qubit])\n",
    "\n",
    "    for phase_index in range(b):\n",
    "        for gate_index in range(2**b):\n",
    "            phase_est_circ.append(G_gate_controll, [*index_register[:],*train_register[:], *test_register[:], B_register[0], phase_register[phase_index]])\n",
    "\n",
    "    phase_est_gate = phase_est_circ.to_gate()\n",
    "    phase_est_gate.name = \"$PhaseEstimation on G$\"\n",
    "    return phase_est_gate"
   ]
  },
  {
   "cell_type": "code",
   "execution_count": null,
   "id": "8298309e",
   "metadata": {},
   "outputs": [],
   "source": [
    "phase_est_gate = phase_estimation_on_g(0)\n",
    "\n",
    "index_register = QuantumRegister(2, 'index')\n",
    "train_register = QuantumRegister(4, 'train')\n",
    "test_register = QuantumRegister(4, 'test')\n",
    "B_register = QuantumRegister(1, 'b')\n",
    "phase_register = QuantumRegister(3, 'phase')\n",
    "    \n",
    "qc = QuantumCircuit(index_register, train_register, test_register, B_register, phase_register)\n",
    "qc.append(phase_est_gate, [*index_register[:],*train_register[:], *test_register[:], B_register[0], *phase_register[:]])\n",
    "\n",
    "qc.decompose().draw(output=\"mpl\", initial_state=True)"
   ]
  },
  {
   "cell_type": "code",
   "execution_count": null,
   "id": "961e11ab",
   "metadata": {},
   "outputs": [],
   "source": []
  }
 ],
 "metadata": {
  "kernelspec": {
   "display_name": "Python 3",
   "language": "python",
   "name": "python3"
  },
  "language_info": {
   "codemirror_mode": {
    "name": "ipython",
    "version": 3
   },
   "file_extension": ".py",
   "mimetype": "text/x-python",
   "name": "python",
   "nbconvert_exporter": "python",
   "pygments_lexer": "ipython3",
   "version": "3.8.5"
  }
 },
 "nbformat": 4,
 "nbformat_minor": 5
}
