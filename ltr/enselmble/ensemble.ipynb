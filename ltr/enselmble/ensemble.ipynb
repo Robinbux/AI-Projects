{
 "cells": [
  {
   "cell_type": "code",
   "execution_count": 1,
   "outputs": [],
   "source": [
    "from src_clean.dataloader.dataloader import DataLoader\n",
    "from src_clean.preprocessor.prepro_new import PreprocessorTwo"
   ],
   "metadata": {
    "collapsed": false,
    "pycharm": {
     "name": "#%%\n"
    }
   }
  },
  {
   "cell_type": "code",
   "execution_count": 2,
   "outputs": [],
   "source": [
    "train_df, test_df = DataLoader.load_train_test_dfs()\n",
    "test_df = PreprocessorTwo.prepro_comp_columns(test_df)\n",
    "train_df, test_df = PreprocessorTwo.calculate_statistics(train_df, test_df)\n",
    "train_df, test_df = PreprocessorTwo.mean_pos_per_prop_id(train_df, test_df)\n",
    "test_df = PreprocessorTwo.drop_cols(test_df)\n",
    "train_df, test_df = PreprocessorTwo.impute(train_df, test_df)"
   ],
   "metadata": {
    "collapsed": false,
    "pycharm": {
     "name": "#%%\n"
    }
   }
  },
  {
   "cell_type": "code",
   "execution_count": 5,
   "outputs": [
    {
     "name": "stdout",
     "output_type": "stream",
     "text": [
      "([(LGBMRanker(learning_rate=0.12, metric='ndcg', num_iterations=400,\n",
      "           objective='lambdarank'), array([[-1.        , -1.        ,  3.        , ...,  2.        ,\n",
      "         0.        , 17.59677419],\n",
      "       [-1.        , -1.        ,  3.        , ...,  2.        ,\n",
      "         0.        , 17.16393443],\n",
      "       [-1.        , -1.        ,  2.        , ...,  2.        ,\n",
      "         0.        , 17.30201342],\n",
      "       ...,\n",
      "       [-1.        , -1.        ,  4.        , ...,  2.        ,\n",
      "         0.        , 20.33333333],\n",
      "       [-1.        , -1.        ,  4.        , ...,  2.        ,\n",
      "         1.        , 13.66666667],\n",
      "       [-1.        , -1.        ,  4.        , ...,  1.        ,\n",
      "         0.        , 11.38461538]])), (<catboost.core.CatBoostRegressor object at 0x2b7a5baf0>, array([[-1.        , -1.        ,  3.        , ...,  2.        ,\n",
      "         0.        , 17.59677419],\n",
      "       [-1.        , -1.        ,  3.        , ...,  2.        ,\n",
      "         0.        , 17.16393443],\n",
      "       [-1.        , -1.        ,  2.        , ...,  2.        ,\n",
      "         0.        , 17.30201342],\n",
      "       ...,\n",
      "       [-1.        , -1.        ,  4.        , ...,  2.        ,\n",
      "         0.        , 20.33333333],\n",
      "       [-1.        , -1.        ,  4.        , ...,  2.        ,\n",
      "         1.        , 13.66666667],\n",
      "       [-1.        , -1.        ,  4.        , ...,  1.        ,\n",
      "         0.        , 11.38461538]]))],)\n"
     ]
    }
   ],
   "source": [
    "from src_clean.enselmble.ensemble import Ensemble\n",
    "from joblib import load\n",
    "# Load pretrained models\n",
    "lambda_mart_model = load('../lambda_mart.joblib')\n",
    "catboost_model = load('../catboost/catboost.joblib')\n",
    "#bayesian_ridge_model = load('../bayesian_ridge/bayesian_ridge.joblib')\n",
    "\n",
    "model_data_list = [(lambda_mart_model, test_df.to_numpy()), (catboost_model, test_df.to_numpy())]\n",
    "\n",
    "ensemble_preds = Ensemble.ensemble_predictions(model_data_list)"
   ],
   "metadata": {
    "collapsed": false,
    "pycharm": {
     "name": "#%%\n"
    }
   }
  },
  {
   "cell_type": "code",
   "execution_count": 6,
   "outputs": [
    {
     "data": {
      "text/plain": "0.40833511920137955"
     },
     "execution_count": 6,
     "metadata": {},
     "output_type": "execute_result"
    }
   ],
   "source": [
    "from src_clean.score.ndcg import calculate_ndcg\n",
    "from src_clean.ranker.ranker import Ranker\n",
    "\n",
    "ranker = Ranker()\n",
    "ranking_file_path = ranker.make_ranking_from_prediction(\n",
    "    ensemble_preds, model_name=\"Ensemble\"\n",
    ")\n",
    "calculate_ndcg(ranking_file_path)"
   ],
   "metadata": {
    "collapsed": false,
    "pycharm": {
     "name": "#%%\n"
    }
   }
  },
  {
   "cell_type": "code",
   "execution_count": null,
   "outputs": [],
   "source": [],
   "metadata": {
    "collapsed": false,
    "pycharm": {
     "name": "#%%\n"
    }
   }
  }
 ],
 "metadata": {
  "kernelspec": {
   "display_name": "Python 3",
   "language": "python",
   "name": "python3"
  },
  "language_info": {
   "codemirror_mode": {
    "name": "ipython",
    "version": 2
   },
   "file_extension": ".py",
   "mimetype": "text/x-python",
   "name": "python",
   "nbconvert_exporter": "python",
   "pygments_lexer": "ipython2",
   "version": "2.7.6"
  }
 },
 "nbformat": 4,
 "nbformat_minor": 0
}