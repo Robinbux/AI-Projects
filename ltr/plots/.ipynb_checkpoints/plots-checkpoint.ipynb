{
 "cells": [
  {
   "cell_type": "code",
   "execution_count": 2,
   "metadata": {
    "pycharm": {
     "name": "#%%\n"
    }
   },
   "outputs": [],
   "source": [
    "import plotly.express as px\n",
    "import pandas as pd\n",
    "import numpy as np\n",
    "\n",
    "from src_clean.dataloader.dataloader import DataLoader\n",
    "from src_clean.preprocessor.prepro_new import PreprocessorTwo"
   ]
  },
  {
   "cell_type": "code",
   "execution_count": 3,
   "metadata": {
    "pycharm": {
     "name": "#%%\n"
    }
   },
   "outputs": [],
   "source": [
    "train_df, test_df = DataLoader.load_train_test_dfs()"
   ]
  },
  {
   "cell_type": "markdown",
   "metadata": {
    "pycharm": {
     "name": "#%% md\n"
    }
   },
   "source": [
    "## Outlier Boxplots"
   ]
  },
  {
   "cell_type": "code",
   "execution_count": null,
   "metadata": {
    "pycharm": {
     "is_executing": true,
     "name": "#%%\n"
    }
   },
   "outputs": [],
   "source": [
    "import plotly.graph_objects as go\n",
    "\n",
    "FEATURES_TO_DISPLAY = ['price_usd', 'gross_bookings_usd']\n",
    "\n",
    "fig = go.Figure()\n",
    "fig.update_xaxes(type=\"log\")\n",
    "for feature in FEATURES_TO_DISPLAY:\n",
    "    fig.add_trace(go.Box(x=train_df[feature].dropna(), name=feature))\n",
    "\n",
    "fig.show()"
   ]
  },
  {
   "cell_type": "markdown",
   "metadata": {
    "pycharm": {
     "name": "#%% md\n"
    }
   },
   "source": [
    "## Missing Data"
   ]
  },
  {
   "cell_type": "code",
   "execution_count": null,
   "metadata": {
    "pycharm": {
     "is_executing": true,
     "name": "#%%\n"
    }
   },
   "outputs": [],
   "source": [
    "train_df_with_nan_values = train_df[train_df.columns[train_df.isnull().any()]]\n",
    "missing_data_series = (train_df_with_nan_values.isna().sum() / 4_958_347).sort_values()\n",
    "missing_data_plot_df = pd.DataFrame(columns=['missing_data', 'feature'])\n",
    "missing_data_plot_df['feature'] = missing_data_series.index\n",
    "missing_data_plot_df['missing_data'] = missing_data_series.values\n",
    "fig = px.bar(missing_data_plot_df, x='feature', y='missing_data')\n",
    "fig.show()"
   ]
  },
  {
   "cell_type": "code",
   "execution_count": null,
   "metadata": {
    "pycharm": {
     "name": "#%%\n"
    }
   },
   "outputs": [],
   "source": []
  }
 ],
 "metadata": {
  "kernelspec": {
   "display_name": "Python 3 (ipykernel)",
   "language": "python",
   "name": "python3"
  },
  "language_info": {
   "codemirror_mode": {
    "name": "ipython",
    "version": 3
   },
   "file_extension": ".py",
   "mimetype": "text/x-python",
   "name": "python",
   "nbconvert_exporter": "python",
   "pygments_lexer": "ipython3",
   "version": "3.10.4"
  }
 },
 "nbformat": 4,
 "nbformat_minor": 1
}
