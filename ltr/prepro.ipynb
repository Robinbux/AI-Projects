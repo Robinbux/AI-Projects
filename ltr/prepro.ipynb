{
 "cells": [
  {
   "cell_type": "code",
   "execution_count": 1,
   "metadata": {
    "pycharm": {
     "name": "#%%\n"
    }
   },
   "outputs": [],
   "source": [
    "from src_clean.dataloader.dataloader import DataLoader\n",
    "from src_clean.preprocessor.prepro_new import PreprocessorTwo\n",
    "import pandas as pd"
   ]
  },
  {
   "cell_type": "code",
   "execution_count": 2,
   "metadata": {
    "pycharm": {
     "name": "#%%\n"
    }
   },
   "outputs": [],
   "source": [
    "train_df, test_df = DataLoader.load_train_test_dfs()\n",
    "#train_df = PreprocessorTwo.preprocess(train_df, exclude_cols_to_drop=['srch_id', 'prop_id', 'position'])\n",
    "train_df = PreprocessorTwo.remove_outliers(train_df)\n",
    "train_df = PreprocessorTwo.relevance(train_df)\n",
    "#train_df = PreprocessorTwo.prepro_comp_columns(train_df)\n",
    "train_df = PreprocessorTwo.add_price_difference_srch_id(train_df)\n",
    "\n",
    "#test_df = PreprocessorTwo.preprocess(test_df, exclude_cols_to_drop=['prop_id'])\n",
    "#test_df = PreprocessorTwo.prepro_comp_columns(test_df)\n",
    "test_df = PreprocessorTwo.add_price_difference_srch_id(test_df)\n",
    "train_df, test_df = PreprocessorTwo.calculate_statistics(train_df, test_df)\n",
    "train_df, test_df = PreprocessorTwo.mean_pos_per_prop_id(train_df, test_df)\n",
    "#train_df, test_df = PreprocessorTwo.click_and_booking_prob(train_df, test_df)\n",
    "\n",
    "train_df = PreprocessorTwo.extract_booking_month(train_df)\n",
    "test_df = PreprocessorTwo.extract_booking_month(test_df)\n"
   ]
  },
  {
   "cell_type": "code",
   "execution_count": 4,
   "outputs": [
    {
     "ename": "KeyError",
     "evalue": "'position'",
     "output_type": "error",
     "traceback": [
      "\u001B[0;31m---------------------------------------------------------------------------\u001B[0m",
      "\u001B[0;31mKeyError\u001B[0m                                  Traceback (most recent call last)",
      "File \u001B[0;32m~/miniforge3/envs/DataMining/lib/python3.10/site-packages/pandas/core/indexes/base.py:3621\u001B[0m, in \u001B[0;36mIndex.get_loc\u001B[0;34m(self, key, method, tolerance)\u001B[0m\n\u001B[1;32m   3620\u001B[0m \u001B[38;5;28;01mtry\u001B[39;00m:\n\u001B[0;32m-> 3621\u001B[0m     \u001B[38;5;28;01mreturn\u001B[39;00m \u001B[38;5;28;43mself\u001B[39;49m\u001B[38;5;241;43m.\u001B[39;49m\u001B[43m_engine\u001B[49m\u001B[38;5;241;43m.\u001B[39;49m\u001B[43mget_loc\u001B[49m\u001B[43m(\u001B[49m\u001B[43mcasted_key\u001B[49m\u001B[43m)\u001B[49m\n\u001B[1;32m   3622\u001B[0m \u001B[38;5;28;01mexcept\u001B[39;00m \u001B[38;5;167;01mKeyError\u001B[39;00m \u001B[38;5;28;01mas\u001B[39;00m err:\n",
      "File \u001B[0;32mpandas/_libs/index.pyx:136\u001B[0m, in \u001B[0;36mpandas._libs.index.IndexEngine.get_loc\u001B[0;34m()\u001B[0m\n",
      "File \u001B[0;32mpandas/_libs/index.pyx:163\u001B[0m, in \u001B[0;36mpandas._libs.index.IndexEngine.get_loc\u001B[0;34m()\u001B[0m\n",
      "File \u001B[0;32mpandas/_libs/hashtable_class_helper.pxi:5198\u001B[0m, in \u001B[0;36mpandas._libs.hashtable.PyObjectHashTable.get_item\u001B[0;34m()\u001B[0m\n",
      "File \u001B[0;32mpandas/_libs/hashtable_class_helper.pxi:5206\u001B[0m, in \u001B[0;36mpandas._libs.hashtable.PyObjectHashTable.get_item\u001B[0;34m()\u001B[0m\n",
      "\u001B[0;31mKeyError\u001B[0m: 'position'",
      "\nThe above exception was the direct cause of the following exception:\n",
      "\u001B[0;31mKeyError\u001B[0m                                  Traceback (most recent call last)",
      "Input \u001B[0;32mIn [4]\u001B[0m, in \u001B[0;36m<cell line: 1>\u001B[0;34m()\u001B[0m\n\u001B[0;32m----> 1\u001B[0m \u001B[43mtest_df\u001B[49m\u001B[43m[\u001B[49m\u001B[38;5;124;43m'\u001B[39;49m\u001B[38;5;124;43mposition\u001B[39;49m\u001B[38;5;124;43m'\u001B[39;49m\u001B[43m]\u001B[49m\n",
      "File \u001B[0;32m~/miniforge3/envs/DataMining/lib/python3.10/site-packages/pandas/core/frame.py:3505\u001B[0m, in \u001B[0;36mDataFrame.__getitem__\u001B[0;34m(self, key)\u001B[0m\n\u001B[1;32m   3503\u001B[0m \u001B[38;5;28;01mif\u001B[39;00m \u001B[38;5;28mself\u001B[39m\u001B[38;5;241m.\u001B[39mcolumns\u001B[38;5;241m.\u001B[39mnlevels \u001B[38;5;241m>\u001B[39m \u001B[38;5;241m1\u001B[39m:\n\u001B[1;32m   3504\u001B[0m     \u001B[38;5;28;01mreturn\u001B[39;00m \u001B[38;5;28mself\u001B[39m\u001B[38;5;241m.\u001B[39m_getitem_multilevel(key)\n\u001B[0;32m-> 3505\u001B[0m indexer \u001B[38;5;241m=\u001B[39m \u001B[38;5;28;43mself\u001B[39;49m\u001B[38;5;241;43m.\u001B[39;49m\u001B[43mcolumns\u001B[49m\u001B[38;5;241;43m.\u001B[39;49m\u001B[43mget_loc\u001B[49m\u001B[43m(\u001B[49m\u001B[43mkey\u001B[49m\u001B[43m)\u001B[49m\n\u001B[1;32m   3506\u001B[0m \u001B[38;5;28;01mif\u001B[39;00m is_integer(indexer):\n\u001B[1;32m   3507\u001B[0m     indexer \u001B[38;5;241m=\u001B[39m [indexer]\n",
      "File \u001B[0;32m~/miniforge3/envs/DataMining/lib/python3.10/site-packages/pandas/core/indexes/base.py:3623\u001B[0m, in \u001B[0;36mIndex.get_loc\u001B[0;34m(self, key, method, tolerance)\u001B[0m\n\u001B[1;32m   3621\u001B[0m     \u001B[38;5;28;01mreturn\u001B[39;00m \u001B[38;5;28mself\u001B[39m\u001B[38;5;241m.\u001B[39m_engine\u001B[38;5;241m.\u001B[39mget_loc(casted_key)\n\u001B[1;32m   3622\u001B[0m \u001B[38;5;28;01mexcept\u001B[39;00m \u001B[38;5;167;01mKeyError\u001B[39;00m \u001B[38;5;28;01mas\u001B[39;00m err:\n\u001B[0;32m-> 3623\u001B[0m     \u001B[38;5;28;01mraise\u001B[39;00m \u001B[38;5;167;01mKeyError\u001B[39;00m(key) \u001B[38;5;28;01mfrom\u001B[39;00m \u001B[38;5;21;01merr\u001B[39;00m\n\u001B[1;32m   3624\u001B[0m \u001B[38;5;28;01mexcept\u001B[39;00m \u001B[38;5;167;01mTypeError\u001B[39;00m:\n\u001B[1;32m   3625\u001B[0m     \u001B[38;5;66;03m# If we have a listlike key, _check_indexing_error will raise\u001B[39;00m\n\u001B[1;32m   3626\u001B[0m     \u001B[38;5;66;03m#  InvalidIndexError. Otherwise we fall through and re-raise\u001B[39;00m\n\u001B[1;32m   3627\u001B[0m     \u001B[38;5;66;03m#  the TypeError.\u001B[39;00m\n\u001B[1;32m   3628\u001B[0m     \u001B[38;5;28mself\u001B[39m\u001B[38;5;241m.\u001B[39m_check_indexing_error(key)\n",
      "\u001B[0;31mKeyError\u001B[0m: 'position'"
     ]
    }
   ],
   "source": [
    "test_df['position']"
   ],
   "metadata": {
    "collapsed": false,
    "pycharm": {
     "name": "#%%\n"
    }
   }
  },
  {
   "cell_type": "code",
   "execution_count": 19,
   "outputs": [],
   "source": [
    "train_df, test_df = PreprocessorTwo.add_price_difference_prop_id(train_df, test_df)"
   ],
   "metadata": {
    "collapsed": false,
    "pycharm": {
     "name": "#%%\n"
    }
   }
  },
  {
   "cell_type": "code",
   "execution_count": 20,
   "outputs": [],
   "source": [
    "train_df = PreprocessorTwo.add_price_order(train_df)\n",
    "test_df = PreprocessorTwo.add_price_order(test_df)"
   ],
   "metadata": {
    "collapsed": false,
    "pycharm": {
     "name": "#%%\n"
    }
   }
  },
  {
   "cell_type": "code",
   "execution_count": 3,
   "outputs": [],
   "source": [
    "train_df = pd.read_parquet(f'parquets/train_df_preprocessed_no_normalization_outliers_removed.parquet')\n",
    "test_df = pd.read_parquet(f'parquets/test_df_preprocessed_no_normalization_outliers_removed.parquet')"
   ],
   "metadata": {
    "collapsed": false,
    "pycharm": {
     "name": "#%%\n"
    }
   }
  },
  {
   "cell_type": "code",
   "execution_count": 4,
   "outputs": [],
   "source": [
    "train_df = PreprocessorTwo.visitor_price_diff(train_df)\n",
    "train_df = PreprocessorTwo.visitor_starrating_diff(train_df)\n",
    "test_df = PreprocessorTwo.visitor_price_diff(test_df)\n",
    "test_df = PreprocessorTwo.visitor_starrating_diff(test_df)"
   ],
   "metadata": {
    "collapsed": false,
    "pycharm": {
     "name": "#%%\n"
    }
   }
  },
  {
   "cell_type": "code",
   "execution_count": null,
   "outputs": [],
   "source": [
    "train_df = PreprocessorTwo.feature_normalization(train_df)\n",
    "test_df = PreprocessorTwo.feature_normalization(test_df)"
   ],
   "metadata": {
    "collapsed": false,
    "pycharm": {
     "name": "#%%\n"
    }
   }
  },
  {
   "cell_type": "code",
   "execution_count": null,
   "outputs": [],
   "source": [
    "# train_df = PreprocessorTwo.impute_competitors(train_df) nope\n",
    "# test_df = PreprocessorTwo.impute_competitors(test_df) nope\n",
    "\n",
    "train_df = PreprocessorTwo.drop_cols(train_df, exclude_cols_to_drop=['srch_id', 'prop_id'])\n",
    "test_df = PreprocessorTwo.drop_cols(test_df)"
   ],
   "metadata": {
    "collapsed": false,
    "pycharm": {
     "name": "#%%\n"
    }
   }
  },
  {
   "cell_type": "code",
   "execution_count": null,
   "outputs": [],
   "source": [
    "train_df.columns = [str(col) for col in train_df.columns]\n",
    "test_df.columns = [str(col) for col in test_df.columns]"
   ],
   "metadata": {
    "collapsed": false,
    "pycharm": {
     "name": "#%%\n"
    }
   }
  },
  {
   "cell_type": "code",
   "execution_count": null,
   "outputs": [],
   "source": [
    "# To Parquets\n",
    "train_df.to_parquet('train_df_preprocessed_with_normalization_outliers_removed.parquet')\n",
    "test_df.to_parquet('test_df_preprocessed_with_normalization_outliers_removed.parquet')"
   ],
   "metadata": {
    "collapsed": false,
    "pycharm": {
     "name": "#%%\n"
    }
   }
  },
  {
   "cell_type": "code",
   "execution_count": 14,
   "outputs": [],
   "source": [
    "train_df = PreprocessorTwo.drop_cols(train_df, exclude_cols_to_drop=['srch_id', 'prop_id'])\n",
    "test_df = PreprocessorTwo.drop_cols(test_df)"
   ],
   "metadata": {
    "collapsed": false,
    "pycharm": {
     "name": "#%%\n"
    }
   }
  },
  {
   "cell_type": "code",
   "execution_count": 15,
   "metadata": {
    "pycharm": {
     "name": "#%%\n"
    }
   },
   "outputs": [],
   "source": [
    "from src_clean.ranker.ranker import Ranker\n",
    "from src_clean.score.ndcg import calculate_ndcg\n",
    "import lightgbm\n",
    "import numpy as np\n",
    "X_train, X_valid, y_train, y_valid = DataLoader.split_df_into_train_and_val_batches(train_df, validation_size=0.1)\n",
    "group_train = [group.shape[0] for group in X_train]\n",
    "group_val = [group.shape[0] for group in X_valid]"
   ]
  },
  {
   "cell_type": "code",
   "execution_count": 16,
   "metadata": {
    "pycharm": {
     "name": "#%%\n"
    }
   },
   "outputs": [
    {
     "name": "stdout",
     "output_type": "stream",
     "text": [
      "[LightGBM] [Warning] min_data_in_leaf is set=9433, min_child_samples=20 will be ignored. Current value: min_data_in_leaf=9433\n",
      "[10]\tvalid_0's ndcg@5: 0.388368\n",
      "[20]\tvalid_0's ndcg@5: 0.39502\n",
      "[30]\tvalid_0's ndcg@5: 0.399395\n",
      "[40]\tvalid_0's ndcg@5: 0.401699\n",
      "[50]\tvalid_0's ndcg@5: 0.404035\n",
      "[60]\tvalid_0's ndcg@5: 0.404694\n",
      "[70]\tvalid_0's ndcg@5: 0.406087\n",
      "[80]\tvalid_0's ndcg@5: 0.407542\n",
      "[90]\tvalid_0's ndcg@5: 0.408521\n",
      "[100]\tvalid_0's ndcg@5: 0.409794\n",
      "[110]\tvalid_0's ndcg@5: 0.409861\n",
      "[120]\tvalid_0's ndcg@5: 0.411615\n",
      "[130]\tvalid_0's ndcg@5: 0.412119\n",
      "[140]\tvalid_0's ndcg@5: 0.413878\n",
      "[150]\tvalid_0's ndcg@5: 0.414847\n",
      "[160]\tvalid_0's ndcg@5: 0.415525\n",
      "[170]\tvalid_0's ndcg@5: 0.416823\n",
      "[180]\tvalid_0's ndcg@5: 0.417517\n",
      "[190]\tvalid_0's ndcg@5: 0.417844\n",
      "[200]\tvalid_0's ndcg@5: 0.418229\n",
      "[210]\tvalid_0's ndcg@5: 0.418541\n",
      "[220]\tvalid_0's ndcg@5: 0.41934\n",
      "[230]\tvalid_0's ndcg@5: 0.419416\n",
      "[240]\tvalid_0's ndcg@5: 0.420048\n",
      "[250]\tvalid_0's ndcg@5: 0.420196\n",
      "[260]\tvalid_0's ndcg@5: 0.420862\n",
      "[270]\tvalid_0's ndcg@5: 0.420853\n",
      "[280]\tvalid_0's ndcg@5: 0.421455\n",
      "[290]\tvalid_0's ndcg@5: 0.421904\n",
      "[300]\tvalid_0's ndcg@5: 0.422468\n",
      "[310]\tvalid_0's ndcg@5: 0.422731\n",
      "[320]\tvalid_0's ndcg@5: 0.423003\n",
      "[330]\tvalid_0's ndcg@5: 0.423599\n",
      "[340]\tvalid_0's ndcg@5: 0.423116\n",
      "[350]\tvalid_0's ndcg@5: 0.42341\n",
      "[360]\tvalid_0's ndcg@5: 0.423788\n",
      "[370]\tvalid_0's ndcg@5: 0.423531\n",
      "[380]\tvalid_0's ndcg@5: 0.423609\n",
      "[390]\tvalid_0's ndcg@5: 0.423977\n",
      "[400]\tvalid_0's ndcg@5: 0.424049\n",
      "[410]\tvalid_0's ndcg@5: 0.424314\n",
      "[420]\tvalid_0's ndcg@5: 0.424516\n",
      "[430]\tvalid_0's ndcg@5: 0.425191\n",
      "[440]\tvalid_0's ndcg@5: 0.424555\n",
      "[450]\tvalid_0's ndcg@5: 0.424535\n",
      "[460]\tvalid_0's ndcg@5: 0.425392\n",
      "[470]\tvalid_0's ndcg@5: 0.424745\n",
      "[480]\tvalid_0's ndcg@5: 0.425067\n",
      "[490]\tvalid_0's ndcg@5: 0.425013\n",
      "[500]\tvalid_0's ndcg@5: 0.425663\n",
      "[510]\tvalid_0's ndcg@5: 0.425949\n",
      "[520]\tvalid_0's ndcg@5: 0.425607\n",
      "[530]\tvalid_0's ndcg@5: 0.426205\n",
      "[540]\tvalid_0's ndcg@5: 0.425996\n",
      "[550]\tvalid_0's ndcg@5: 0.42557\n",
      "[560]\tvalid_0's ndcg@5: 0.425416\n",
      "[570]\tvalid_0's ndcg@5: 0.425159\n",
      "[580]\tvalid_0's ndcg@5: 0.425311\n",
      "[590]\tvalid_0's ndcg@5: 0.426059\n",
      "[600]\tvalid_0's ndcg@5: 0.425876\n",
      "[610]\tvalid_0's ndcg@5: 0.425985\n",
      "[620]\tvalid_0's ndcg@5: 0.425485\n",
      "[630]\tvalid_0's ndcg@5: 0.425894\n",
      "[640]\tvalid_0's ndcg@5: 0.424984\n",
      "[650]\tvalid_0's ndcg@5: 0.425087\n",
      "[660]\tvalid_0's ndcg@5: 0.425154\n",
      "[670]\tvalid_0's ndcg@5: 0.424902\n",
      "[680]\tvalid_0's ndcg@5: 0.424756\n",
      "[690]\tvalid_0's ndcg@5: 0.424927\n",
      "[700]\tvalid_0's ndcg@5: 0.424892\n",
      "[710]\tvalid_0's ndcg@5: 0.424853\n",
      "[720]\tvalid_0's ndcg@5: 0.425177\n",
      "[730]\tvalid_0's ndcg@5: 0.425128\n",
      "[740]\tvalid_0's ndcg@5: 0.425143\n",
      "[750]\tvalid_0's ndcg@5: 0.425351\n",
      "[760]\tvalid_0's ndcg@5: 0.425183\n",
      "[770]\tvalid_0's ndcg@5: 0.425245\n",
      "[780]\tvalid_0's ndcg@5: 0.42496\n",
      "[790]\tvalid_0's ndcg@5: 0.4248\n",
      "[800]\tvalid_0's ndcg@5: 0.424514\n",
      "[810]\tvalid_0's ndcg@5: 0.424866\n",
      "[820]\tvalid_0's ndcg@5: 0.42475\n",
      "[830]\tvalid_0's ndcg@5: 0.425289\n"
     ]
    },
    {
     "data": {
      "text/plain": "0.4232805827561173"
     },
     "execution_count": 16,
     "metadata": {},
     "output_type": "execute_result"
    }
   ],
   "source": [
    "params = {'num_iterations': 1000,\n",
    "          'learning_rate': 0.047311784907414445,\n",
    "          'max_depth': 500,\n",
    "          'num_leaves': 272,\n",
    "          'min_data_in_leaf': 9433,\n",
    "          }\n",
    "\n",
    "model = lightgbm.LGBMRanker(\n",
    "    objective=\"lambdarank\",\n",
    "    metric=\"ndcg\",\n",
    "    early_stopping_round=300,\n",
    "    **params\n",
    ")\n",
    "model.fit(\n",
    "    X=np.vstack(X_train),\n",
    "    y=np.hstack(y_train),\n",
    "    group=group_train,\n",
    "    eval_set=[(np.vstack(X_valid), np.hstack(y_valid))],\n",
    "    eval_group=[group_val],\n",
    "    eval_at=5,\n",
    "    verbose=10\n",
    ")\n",
    "pred = model.predict(test_df.to_numpy())\n",
    "ranker = Ranker()\n",
    "ranking_file_path = ranker.make_ranking_from_prediction(\n",
    "    pred, model_name=\"LightGBM\"\n",
    ")\n",
    "calculate_ndcg(ranking_file_path)"
   ]
  },
  {
   "cell_type": "code",
   "execution_count": 8,
   "outputs": [],
   "source": [],
   "metadata": {
    "collapsed": false,
    "pycharm": {
     "name": "#%%\n"
    }
   }
  },
  {
   "cell_type": "code",
   "execution_count": 9,
   "metadata": {
    "pycharm": {
     "name": "#%%\n"
    }
   },
   "outputs": [
    {
     "data": {
      "text/plain": "'/Users/robinbux/Desktop/VU/Period5/DataMining/DMT_2022/Assignment_2/rankings/LightGBM/ranking_22_05_2022-35_16.csv'"
     },
     "execution_count": 9,
     "metadata": {},
     "output_type": "execute_result"
    }
   ],
   "source": [
    "ranking_file_path"
   ]
  },
  {
   "cell_type": "code",
   "execution_count": null,
   "metadata": {
    "pycharm": {
     "name": "#%%\n"
    }
   },
   "outputs": [],
   "source": [
    "from joblib import dump, load\n",
    "dump(model, 'lambda_mart.joblib')"
   ]
  },
  {
   "cell_type": "code",
   "execution_count": null,
   "metadata": {
    "pycharm": {
     "name": "#%%\n"
    }
   },
   "outputs": [],
   "source": []
  }
 ],
 "metadata": {
  "kernelspec": {
   "display_name": "Python 3 (ipykernel)",
   "language": "python",
   "name": "python3"
  },
  "language_info": {
   "codemirror_mode": {
    "name": "ipython",
    "version": 3
   },
   "file_extension": ".py",
   "mimetype": "text/x-python",
   "name": "python",
   "nbconvert_exporter": "python",
   "pygments_lexer": "ipython3",
   "version": "3.10.4"
  }
 },
 "nbformat": 4,
 "nbformat_minor": 1
}