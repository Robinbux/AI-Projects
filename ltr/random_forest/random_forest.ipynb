{
 "cells": [
  {
   "cell_type": "code",
   "execution_count": 1,
   "outputs": [],
   "source": [
    "from src_clean.dataloader.dataloader import DataLoader\n",
    "from src_clean.preprocessor.prepro_new import PreprocessorTwo\n",
    "from src_clean.ranker.ranker import Ranker\n",
    "from src_clean.score.ndcg import calculate_ndcg\n",
    "import lightgbm\n",
    "import numpy as np\n",
    "from sklearn.ensemble import RandomForestClassifier"
   ],
   "metadata": {
    "collapsed": false,
    "pycharm": {
     "name": "#%%\n"
    }
   }
  },
  {
   "cell_type": "code",
   "execution_count": 2,
   "outputs": [],
   "source": [
    "train_df, test_df = DataLoader.load_train_test_dfs()\n",
    "train_df = PreprocessorTwo.preprocess(train_df, exclude_cols_to_drop=['srch_id', 'prop_id', 'position'])\n",
    "train_df = PreprocessorTwo.remove_outliers(train_df)\n",
    "train_df = PreprocessorTwo.relevance(train_df)\n",
    "\n",
    "test_df = PreprocessorTwo.preprocess(test_df, exclude_cols_to_drop=['prop_id'])\n",
    "train_df, test_df = PreprocessorTwo.calculate_statistics(train_df, test_df)\n",
    "train_df, test_df = PreprocessorTwo.mean_pos_per_prop_id(train_df, test_df)\n",
    "#train_df, test_df = PreprocessorTwo.mean_pos_per_prop_id(train_df, test_df)\n",
    "test_df.drop('prop_id', axis=1, inplace=True)\n",
    "train_df.drop('position', axis=1, inplace=True)\n",
    "train_df = train_df.fillna(-1)\n",
    "test_df = test_df.fillna(-1)"
   ],
   "metadata": {
    "collapsed": false,
    "pycharm": {
     "name": "#%%\n"
    }
   }
  },
  {
   "cell_type": "code",
   "execution_count": 3,
   "outputs": [],
   "source": [
    "X_train, _, y_train, _ = DataLoader.split_df_into_train_and_val_batches(train_df, validation_size=0)"
   ],
   "metadata": {
    "collapsed": false,
    "pycharm": {
     "name": "#%%\n"
    }
   }
  },
  {
   "cell_type": "code",
   "execution_count": 4,
   "outputs": [],
   "source": [
    "X_train = X_train[:round(len(X_train)/10)]\n",
    "y_train = y_train[:round(len(y_train)/10)]"
   ],
   "metadata": {
    "collapsed": false,
    "pycharm": {
     "name": "#%%\n"
    }
   }
  },
  {
   "cell_type": "code",
   "execution_count": null,
   "outputs": [],
   "source": [
    "clf = RandomForestClassifier()\n",
    "clf.fit(np.vstack(X_train), list(np.hstack(y_train)))"
   ],
   "metadata": {
    "collapsed": false,
    "pycharm": {
     "name": "#%%\n",
     "is_executing": true
    }
   }
  },
  {
   "cell_type": "code",
   "execution_count": null,
   "outputs": [],
   "source": [
    "list(np.hstack(y_train))"
   ],
   "metadata": {
    "collapsed": false,
    "pycharm": {
     "name": "#%%\n",
     "is_executing": true
    }
   }
  },
  {
   "cell_type": "code",
   "execution_count": null,
   "outputs": [],
   "source": [],
   "metadata": {
    "collapsed": false,
    "pycharm": {
     "name": "#%%\n"
    }
   }
  }
 ],
 "metadata": {
  "kernelspec": {
   "display_name": "Python 3",
   "language": "python",
   "name": "python3"
  },
  "language_info": {
   "codemirror_mode": {
    "name": "ipython",
    "version": 2
   },
   "file_extension": ".py",
   "mimetype": "text/x-python",
   "name": "python",
   "nbconvert_exporter": "python",
   "pygments_lexer": "ipython2",
   "version": "2.7.6"
  }
 },
 "nbformat": 4,
 "nbformat_minor": 0
}