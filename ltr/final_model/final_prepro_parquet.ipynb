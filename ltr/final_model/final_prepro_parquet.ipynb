{
 "cells": [
  {
   "cell_type": "code",
   "execution_count": 1,
   "metadata": {
    "collapsed": true,
    "pycharm": {
     "name": "#%%\n"
    }
   },
   "outputs": [],
   "source": [
    "from src_clean.dataloader.dataloader import DataLoader\n",
    "from src_clean.preprocessor.prepro_new import PreprocessorTwo"
   ]
  },
  {
   "cell_type": "code",
   "execution_count": 2,
   "outputs": [],
   "source": [
    "train_df, test_df = DataLoader.load_train_test_dfs()\n",
    "\n",
    "train_df = PreprocessorTwo.relevance(train_df)\n",
    "#train_df = PreprocessorTwo.prepro_comp_columns(train_df) # CHECK -DROP PROB\n",
    "#test_df = PreprocessorTwo.prepro_comp_columns(test_df) # CHECK - DROP PROB\n",
    "\n",
    "train_df = PreprocessorTwo.add_price_difference_srch_id(train_df)\n",
    "test_df = PreprocessorTwo.add_price_difference_srch_id(test_df)\n",
    "train_df, test_df = PreprocessorTwo.calculate_statistics(train_df, test_df)\n",
    "train_df, test_df = PreprocessorTwo.mean_pos_per_prop_id(train_df, test_df) # CHANGE (RANDOM BOOL = 0 AND MEAN POS\n",
    "\n",
    "train_df = PreprocessorTwo.extract_booking_month(train_df)\n",
    "test_df = PreprocessorTwo.extract_booking_month(test_df)\n",
    "\n",
    "train_df, test_df = PreprocessorTwo.add_price_difference_prop_id(train_df, test_df)\n",
    "\n",
    "train_df = PreprocessorTwo.add_price_order(train_df)\n",
    "test_df = PreprocessorTwo.add_price_order(test_df)"
   ],
   "metadata": {
    "collapsed": false,
    "pycharm": {
     "name": "#%%\n"
    }
   }
  },
  {
   "cell_type": "code",
   "execution_count": 3,
   "outputs": [],
   "source": [
    "train_df = PreprocessorTwo.visitor_price_diff(train_df)\n",
    "train_df = PreprocessorTwo.visitor_starrating_diff(train_df)\n",
    "test_df = PreprocessorTwo.visitor_price_diff(test_df)\n",
    "test_df = PreprocessorTwo.visitor_starrating_diff(test_df)"
   ],
   "metadata": {
    "collapsed": false,
    "pycharm": {
     "name": "#%%\n"
    }
   }
  },
  {
   "cell_type": "code",
   "execution_count": 4,
   "outputs": [],
   "source": [
    "train_df = PreprocessorTwo.feature_normalization(train_df)\n",
    "test_df = PreprocessorTwo.feature_normalization(test_df)"
   ],
   "metadata": {
    "collapsed": false,
    "pycharm": {
     "name": "#%%\n"
    }
   }
  },
  {
   "cell_type": "code",
   "execution_count": 5,
   "outputs": [],
   "source": [
    "train_df.columns = [str(col) for col in train_df.columns]\n",
    "test_df.columns = [str(col) for col in test_df.columns]"
   ],
   "metadata": {
    "collapsed": false,
    "pycharm": {
     "name": "#%%\n"
    }
   }
  },
  {
   "cell_type": "code",
   "execution_count": 7,
   "outputs": [],
   "source": [
    "# To Parquets\n",
    "train_df.to_parquet('train_df_preprocessed_WITH_normalization_outliers_change_pos.parquet')\n",
    "test_df.to_parquet('test_df_preprocessed_WITH_normalization_outliers_change_pos.parquet')"
   ],
   "metadata": {
    "collapsed": false,
    "pycharm": {
     "name": "#%%\n"
    }
   }
  },
  {
   "cell_type": "code",
   "execution_count": null,
   "outputs": [],
   "source": [],
   "metadata": {
    "collapsed": false,
    "pycharm": {
     "name": "#%%\n"
    }
   }
  }
 ],
 "metadata": {
  "kernelspec": {
   "display_name": "Python 3",
   "language": "python",
   "name": "python3"
  },
  "language_info": {
   "codemirror_mode": {
    "name": "ipython",
    "version": 2
   },
   "file_extension": ".py",
   "mimetype": "text/x-python",
   "name": "python",
   "nbconvert_exporter": "python",
   "pygments_lexer": "ipython2",
   "version": "2.7.6"
  }
 },
 "nbformat": 4,
 "nbformat_minor": 0
}