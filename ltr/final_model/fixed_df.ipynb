{
 "cells": [
  {
   "cell_type": "code",
   "execution_count": 1,
   "outputs": [],
   "source": [
    "from src_clean.dataloader import DataLoader\n",
    "from src_clean.preprocessor.prepro_new import PreprocessorTwo"
   ],
   "metadata": {
    "collapsed": false,
    "pycharm": {
     "name": "#%%\n"
    }
   }
  },
  {
   "cell_type": "code",
   "execution_count": 2,
   "outputs": [],
   "source": [
    "train_df, test_df = DataLoader.load_train_test_dfs()"
   ],
   "metadata": {
    "collapsed": false,
    "pycharm": {
     "name": "#%%\n"
    }
   }
  },
  {
   "cell_type": "code",
   "execution_count": 3,
   "outputs": [],
   "source": [
    "# VANILLA\n",
    "train_df = PreprocessorTwo.relevance(train_df)\n",
    "\n",
    "train_df.to_parquet('train_df_vanilla.parquet')\n",
    "test_df.to_parquet('test_df_vanilla.parquet')"
   ],
   "metadata": {
    "collapsed": false,
    "pycharm": {
     "name": "#%%\n"
    }
   }
  },
  {
   "cell_type": "code",
   "execution_count": 4,
   "outputs": [],
   "source": [
    "# BASIC\n",
    "train_df = PreprocessorTwo.add_price_difference_srch_id(train_df)\n",
    "test_df = PreprocessorTwo.add_price_difference_srch_id(test_df)\n",
    "\n",
    "train_df = PreprocessorTwo.extract_booking_month(train_df)\n",
    "test_df = PreprocessorTwo.extract_booking_month(test_df)\n",
    "\n",
    "train_df, test_df = PreprocessorTwo.add_price_difference_prop_id(train_df, test_df)\n",
    "\n",
    "train_df = PreprocessorTwo.add_price_order(train_df)\n",
    "test_df = PreprocessorTwo.add_price_order(test_df)\n",
    "\n",
    "train_df = PreprocessorTwo.visitor_price_diff(train_df)\n",
    "train_df = PreprocessorTwo.visitor_starrating_diff(train_df)\n",
    "test_df = PreprocessorTwo.visitor_price_diff(test_df)\n",
    "test_df = PreprocessorTwo.visitor_starrating_diff(test_df)\n",
    "\n",
    "train_df.columns = [str(col) for col in train_df.columns]\n",
    "test_df.columns = [str(col) for col in test_df.columns]\n",
    "\n",
    "train_df.to_parquet('train_df_basic.parquet')\n",
    "test_df.to_parquet('test_df_basic.parquet')"
   ],
   "metadata": {
    "collapsed": false,
    "pycharm": {
     "name": "#%%\n"
    }
   }
  },
  {
   "cell_type": "code",
   "execution_count": 5,
   "outputs": [],
   "source": [
    "# STATISTIC\n",
    "train_df, test_df = PreprocessorTwo.calculate_statistics(train_df, test_df)\n",
    "train_df = PreprocessorTwo.calculate_statistics_srch_id(train_df)\n",
    "test_df = PreprocessorTwo.calculate_statistics_srch_id(test_df)\n",
    "\n",
    "train_df.to_parquet('train_df_basic_statistic.parquet')\n",
    "test_df.to_parquet('test_df_basic_statistic.parquet')"
   ],
   "metadata": {
    "collapsed": false,
    "pycharm": {
     "name": "#%%\n"
    }
   }
  },
  {
   "cell_type": "code",
   "execution_count": 6,
   "outputs": [],
   "source": [
    "# POSITION\n",
    "train_df, test_df = PreprocessorTwo.mean_and_std_pos_per_prop_id(train_df, test_df)\n",
    "\n",
    "train_df.to_parquet('train_df_basic_statistic_position.parquet')\n",
    "test_df.to_parquet('test_df_basic_statistic_position.parquet')"
   ],
   "metadata": {
    "collapsed": false,
    "pycharm": {
     "name": "#%%\n"
    }
   }
  },
  {
   "cell_type": "code",
   "execution_count": 7,
   "outputs": [],
   "source": [
    "# NORMALIZE\n",
    "train_df = PreprocessorTwo.feature_normalization(train_df)\n",
    "test_df = PreprocessorTwo.feature_normalization(test_df)\n",
    "\n",
    "train_df.to_parquet('train_df_basic_statistic_position_normalized.parquet')\n",
    "test_df.to_parquet('test_df_basic_statistic_position_normalized.parquet')"
   ],
   "metadata": {
    "collapsed": false,
    "pycharm": {
     "name": "#%%\n"
    }
   }
  },
  {
   "cell_type": "code",
   "execution_count": null,
   "outputs": [],
   "source": [],
   "metadata": {
    "collapsed": false,
    "pycharm": {
     "name": "#%%\n"
    }
   }
  }
 ],
 "metadata": {
  "kernelspec": {
   "display_name": "Python 3",
   "language": "python",
   "name": "python3"
  },
  "language_info": {
   "codemirror_mode": {
    "name": "ipython",
    "version": 2
   },
   "file_extension": ".py",
   "mimetype": "text/x-python",
   "name": "python",
   "nbconvert_exporter": "python",
   "pygments_lexer": "ipython2",
   "version": "2.7.6"
  }
 },
 "nbformat": 4,
 "nbformat_minor": 0
}